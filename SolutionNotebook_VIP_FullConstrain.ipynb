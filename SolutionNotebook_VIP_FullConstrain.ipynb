{
 "cells": [
  {
   "cell_type": "markdown",
   "metadata": {},
   "source": [
    "# Conference scheduling problem"
   ]
  },
  {
   "cell_type": "code",
   "execution_count": 1297,
   "metadata": {},
   "outputs": [],
   "source": [
    "# !pip install mip"
   ]
  },
  {
   "cell_type": "code",
   "execution_count": 2,
   "metadata": {},
   "outputs": [],
   "source": [
    "import pandas as pd\n",
    "import numpy as np"
   ]
  },
  {
   "cell_type": "markdown",
   "metadata": {},
   "source": [
    "## Problem Statement\n",
    "\n",
    "Recently Slalom Seattle was planning it's annual Innovation Symposium, and I was on the planning committee.\n",
    "\n",
    "The planning team wanted to assign each individual to a schedule. Attendees had been asked to rank their preference for attending each topic. The problem was a large number of schedules would have to manually be created; over 600 attendees, needed to be assigned to 7 different topics across 3 sessions. The original plan was to whiteboard it and manually create schedules and assign people to schedules, an excruciating process that may have to be rerun as new responses or constraints came in. It also seemed difficult to ensure the best solution: how do you even pick the best subset of possible schedules?\n",
    "\n",
    "There were also some constraints about the capacity of available rooms, more popular sessions could be put in a larger room, and we wanted to avoid having rooms half empty in one session and then bursting at the seams in a later session.\n",
    "\n",
    "### 2022 Bonus Complexity\n",
    "In 2022 a number of the attendees will be virtual while\n",
    "\n",
    "**Problem:** Creates quadratic complexity when adding in in person / virtual constraint. Maybe there's a better way to solve this?  \n",
    "Have tried converting bool quadratic into 4 constraints (for each multiplication!!!!).  \n",
    "https://orinanobworld.blogspot.com/2010/10/binary-variables-and-quadratic-terms.html  \n",
    "https://python-mip.readthedocs.io/en/latest/examples.html  \n",
    "https://docs.python-mip.com/en/latest/examples.html  \n",
    "https://math.stackexchange.com/questions/2776824/adding-a-combination-of-and-or-operator-constraint-in-linear-programming/2778110#2778110=  \n",
    "https://en.wikipedia.org/wiki/Big_M_method  \n",
    "logic table: https://www.wolframalpha.com/input?i=X+%26%26+%28A+%5E+S%29"
   ]
  },
  {
   "cell_type": "markdown",
   "metadata": {},
   "source": [
    "## Data Prep"
   ]
  },
  {
   "cell_type": "markdown",
   "metadata": {},
   "source": [
    "### Let's have a look at the survey data"
   ]
  },
  {
   "cell_type": "code",
   "execution_count": 3,
   "metadata": {},
   "outputs": [
    {
     "data": {
      "text/html": [
       "<div>\n",
       "<style scoped>\n",
       "    .dataframe tbody tr th:only-of-type {\n",
       "        vertical-align: middle;\n",
       "    }\n",
       "\n",
       "    .dataframe tbody tr th {\n",
       "        vertical-align: top;\n",
       "    }\n",
       "\n",
       "    .dataframe thead th {\n",
       "        text-align: right;\n",
       "    }\n",
       "</style>\n",
       "<table border=\"1\" class=\"dataframe\">\n",
       "  <thead>\n",
       "    <tr style=\"text-align: right;\">\n",
       "      <th></th>\n",
       "      <th>Do you plan on attending the Shape the Future Symposium?</th>\n",
       "      <th>Choice 1</th>\n",
       "      <th>Choice 2</th>\n",
       "      <th>Choice 3</th>\n",
       "      <th>Choice 4</th>\n",
       "      <th>Choice 5</th>\n",
       "      <th>Choice 6</th>\n",
       "      <th>Choice 7</th>\n",
       "      <th>Choice 8</th>\n",
       "      <th>Choice 9</th>\n",
       "      <th>Choice 10</th>\n",
       "      <th>Choice 11</th>\n",
       "      <th>Choice 12</th>\n",
       "      <th>Choice 13</th>\n",
       "    </tr>\n",
       "  </thead>\n",
       "  <tbody>\n",
       "    <tr>\n",
       "      <th>0</th>\n",
       "      <td>Yes, I will attend in person</td>\n",
       "      <td>Architecting for a Sustainable Cloud Future</td>\n",
       "      <td>The Future of Work: What You Need to Know to N...</td>\n",
       "      <td>Environmental Impact @ Slalom with Net Zero Cloud</td>\n",
       "      <td>Starbucks Experimentation Program</td>\n",
       "      <td>Shaping the Future Through Inspiration and Inn...</td>\n",
       "      <td>ESG 101</td>\n",
       "      <td>Introduction to the Seattle Sustainability Team</td>\n",
       "      <td>Energy Demand Nowcasting: How Machine Learning...</td>\n",
       "      <td>Modern Portfolio Management</td>\n",
       "      <td>Build a Bot Using PowerAutomate</td>\n",
       "      <td>Fusion Development with the Microsoft Power Pl...</td>\n",
       "      <td>Low Code – Meeting User Needs While Also Being...</td>\n",
       "      <td>MIDL Earth - Digitized</td>\n",
       "    </tr>\n",
       "    <tr>\n",
       "      <th>1</th>\n",
       "      <td>Yes, I will attend virtually</td>\n",
       "      <td>Fusion Development with the Microsoft Power Pl...</td>\n",
       "      <td>Architecting for a Sustainable Cloud Future</td>\n",
       "      <td>Service Design: A Framework for Practical Coll...</td>\n",
       "      <td>Build a Bot Using PowerAutomate</td>\n",
       "      <td>Shaping the Future Through Inspiration and Inn...</td>\n",
       "      <td>Introduction to the Seattle Sustainability Team</td>\n",
       "      <td>ESG 101</td>\n",
       "      <td>Low Code – Meeting User Needs While Also Being...</td>\n",
       "      <td>Energy Demand Nowcasting: How Machine Learning...</td>\n",
       "      <td>The Future of Work: What You Need to Know to N...</td>\n",
       "      <td>Environmental Impact @ Slalom with Net Zero Cloud</td>\n",
       "      <td>MIDL Earth - Digitized</td>\n",
       "      <td>Starbucks Experimentation Program</td>\n",
       "    </tr>\n",
       "    <tr>\n",
       "      <th>2</th>\n",
       "      <td>Yes, I will attend virtually</td>\n",
       "      <td>Build a Bot Using PowerAutomate</td>\n",
       "      <td>Architecting for a Sustainable Cloud Future</td>\n",
       "      <td>Low Code – Meeting User Needs While Also Being...</td>\n",
       "      <td>MIDL Earth - Digitized</td>\n",
       "      <td>Fusion Development with the Microsoft Power Pl...</td>\n",
       "      <td>Shaping the Future Through Inspiration and Inn...</td>\n",
       "      <td>Introduction to the Seattle Sustainability Team</td>\n",
       "      <td>ESG 101</td>\n",
       "      <td>Energy Demand Nowcasting: How Machine Learning...</td>\n",
       "      <td>The Future of Work: What You Need to Know to N...</td>\n",
       "      <td>Environmental Impact @ Slalom with Net Zero Cloud</td>\n",
       "      <td>Starbucks Experimentation Program</td>\n",
       "      <td>Modern Portfolio Management</td>\n",
       "    </tr>\n",
       "    <tr>\n",
       "      <th>3</th>\n",
       "      <td>Yes, I will attend in person</td>\n",
       "      <td>Build a Bot Using PowerAutomate</td>\n",
       "      <td>Fusion Development with the Microsoft Power Pl...</td>\n",
       "      <td>Shaping the Future Through Inspiration and Inn...</td>\n",
       "      <td>Introduction to the Seattle Sustainability Team</td>\n",
       "      <td>ESG 101</td>\n",
       "      <td>Low Code – Meeting User Needs While Also Being...</td>\n",
       "      <td>Architecting for a Sustainable Cloud Future</td>\n",
       "      <td>Energy Demand Nowcasting: How Machine Learning...</td>\n",
       "      <td>The Future of Work: What You Need to Know to N...</td>\n",
       "      <td>Environmental Impact @ Slalom with Net Zero Cloud</td>\n",
       "      <td>MIDL Earth - Digitized</td>\n",
       "      <td>Starbucks Experimentation Program</td>\n",
       "      <td>Modern Portfolio Management</td>\n",
       "    </tr>\n",
       "    <tr>\n",
       "      <th>4</th>\n",
       "      <td>Yes, I will attend in person</td>\n",
       "      <td>Starbucks Experimentation Program</td>\n",
       "      <td>The Future of Work: What You Need to Know to N...</td>\n",
       "      <td>Low Code – Meeting User Needs While Also Being...</td>\n",
       "      <td>Build a Bot Using PowerAutomate</td>\n",
       "      <td>Fusion Development with the Microsoft Power Pl...</td>\n",
       "      <td>Shaping the Future Through Inspiration and Inn...</td>\n",
       "      <td>Introduction to the Seattle Sustainability Team</td>\n",
       "      <td>ESG 101</td>\n",
       "      <td>Architecting for a Sustainable Cloud Future</td>\n",
       "      <td>Energy Demand Nowcasting: How Machine Learning...</td>\n",
       "      <td>Environmental Impact @ Slalom with Net Zero Cloud</td>\n",
       "      <td>MIDL Earth - Digitized</td>\n",
       "      <td>Modern Portfolio Management</td>\n",
       "    </tr>\n",
       "  </tbody>\n",
       "</table>\n",
       "</div>"
      ],
      "text/plain": [
       "  Do you plan on attending the Shape the Future Symposium?  \\\n",
       "0                       Yes, I will attend in person         \n",
       "1                       Yes, I will attend virtually         \n",
       "2                       Yes, I will attend virtually         \n",
       "3                       Yes, I will attend in person         \n",
       "4                       Yes, I will attend in person         \n",
       "\n",
       "                                            Choice 1  \\\n",
       "0        Architecting for a Sustainable Cloud Future   \n",
       "1  Fusion Development with the Microsoft Power Pl...   \n",
       "2                    Build a Bot Using PowerAutomate   \n",
       "3                    Build a Bot Using PowerAutomate   \n",
       "4                  Starbucks Experimentation Program   \n",
       "\n",
       "                                            Choice 2  \\\n",
       "0  The Future of Work: What You Need to Know to N...   \n",
       "1        Architecting for a Sustainable Cloud Future   \n",
       "2        Architecting for a Sustainable Cloud Future   \n",
       "3  Fusion Development with the Microsoft Power Pl...   \n",
       "4  The Future of Work: What You Need to Know to N...   \n",
       "\n",
       "                                            Choice 3  \\\n",
       "0  Environmental Impact @ Slalom with Net Zero Cloud   \n",
       "1  Service Design: A Framework for Practical Coll...   \n",
       "2  Low Code – Meeting User Needs While Also Being...   \n",
       "3  Shaping the Future Through Inspiration and Inn...   \n",
       "4  Low Code – Meeting User Needs While Also Being...   \n",
       "\n",
       "                                          Choice 4  \\\n",
       "0                Starbucks Experimentation Program   \n",
       "1                  Build a Bot Using PowerAutomate   \n",
       "2                          MIDL Earth - Digitized    \n",
       "3  Introduction to the Seattle Sustainability Team   \n",
       "4                  Build a Bot Using PowerAutomate   \n",
       "\n",
       "                                            Choice 5  \\\n",
       "0  Shaping the Future Through Inspiration and Inn...   \n",
       "1  Shaping the Future Through Inspiration and Inn...   \n",
       "2  Fusion Development with the Microsoft Power Pl...   \n",
       "3                                            ESG 101   \n",
       "4  Fusion Development with the Microsoft Power Pl...   \n",
       "\n",
       "                                            Choice 6  \\\n",
       "0                                            ESG 101   \n",
       "1    Introduction to the Seattle Sustainability Team   \n",
       "2  Shaping the Future Through Inspiration and Inn...   \n",
       "3  Low Code – Meeting User Needs While Also Being...   \n",
       "4  Shaping the Future Through Inspiration and Inn...   \n",
       "\n",
       "                                          Choice 7  \\\n",
       "0  Introduction to the Seattle Sustainability Team   \n",
       "1                                          ESG 101   \n",
       "2  Introduction to the Seattle Sustainability Team   \n",
       "3      Architecting for a Sustainable Cloud Future   \n",
       "4  Introduction to the Seattle Sustainability Team   \n",
       "\n",
       "                                            Choice 8  \\\n",
       "0  Energy Demand Nowcasting: How Machine Learning...   \n",
       "1  Low Code – Meeting User Needs While Also Being...   \n",
       "2                                            ESG 101   \n",
       "3  Energy Demand Nowcasting: How Machine Learning...   \n",
       "4                                            ESG 101   \n",
       "\n",
       "                                            Choice 9  \\\n",
       "0                        Modern Portfolio Management   \n",
       "1  Energy Demand Nowcasting: How Machine Learning...   \n",
       "2  Energy Demand Nowcasting: How Machine Learning...   \n",
       "3  The Future of Work: What You Need to Know to N...   \n",
       "4        Architecting for a Sustainable Cloud Future   \n",
       "\n",
       "                                           Choice 10  \\\n",
       "0                    Build a Bot Using PowerAutomate   \n",
       "1  The Future of Work: What You Need to Know to N...   \n",
       "2  The Future of Work: What You Need to Know to N...   \n",
       "3  Environmental Impact @ Slalom with Net Zero Cloud   \n",
       "4  Energy Demand Nowcasting: How Machine Learning...   \n",
       "\n",
       "                                           Choice 11  \\\n",
       "0  Fusion Development with the Microsoft Power Pl...   \n",
       "1  Environmental Impact @ Slalom with Net Zero Cloud   \n",
       "2  Environmental Impact @ Slalom with Net Zero Cloud   \n",
       "3                            MIDL Earth - Digitized    \n",
       "4  Environmental Impact @ Slalom with Net Zero Cloud   \n",
       "\n",
       "                                           Choice 12  \\\n",
       "0  Low Code – Meeting User Needs While Also Being...   \n",
       "1                            MIDL Earth - Digitized    \n",
       "2                  Starbucks Experimentation Program   \n",
       "3                  Starbucks Experimentation Program   \n",
       "4                            MIDL Earth - Digitized    \n",
       "\n",
       "                           Choice 13  \n",
       "0            MIDL Earth - Digitized   \n",
       "1  Starbucks Experimentation Program  \n",
       "2        Modern Portfolio Management  \n",
       "3        Modern Portfolio Management  \n",
       "4        Modern Portfolio Management  "
      ]
     },
     "execution_count": 3,
     "metadata": {},
     "output_type": "execute_result"
    }
   ],
   "source": [
    "# Read data\n",
    "file='data/selections_2022.csv'\n",
    "df = pd.read_csv(file)\n",
    "df.head(5)"
   ]
  },
  {
   "cell_type": "code",
   "execution_count": 4,
   "metadata": {},
   "outputs": [],
   "source": [
    "# Drop non attendees\n",
    "df = df[df['Do you plan on attending the Shape the Future Symposium?'] != 'No, I will not attend']"
   ]
  },
  {
   "cell_type": "code",
   "execution_count": 5,
   "metadata": {},
   "outputs": [],
   "source": [
    "a_virt = df[['Do you plan on attending the Shape the Future Symposium?']].copy()\n",
    "df.drop('Do you plan on attending the Shape the Future Symposium?', axis=1, inplace=True)\n",
    "# df = df[df.columns[:7]]"
   ]
  },
  {
   "cell_type": "code",
   "execution_count": 6,
   "metadata": {},
   "outputs": [],
   "source": [
    "index = a_virt.index"
   ]
  },
  {
   "cell_type": "code",
   "execution_count": 7,
   "metadata": {},
   "outputs": [
    {
     "data": {
      "text/plain": [
       "Do you plan on attending the Shape the Future Symposium?\n",
       "Yes, I will attend in person                                279\n",
       "Yes, I will attend virtually                                148\n",
       "dtype: int64"
      ]
     },
     "execution_count": 7,
     "metadata": {},
     "output_type": "execute_result"
    }
   ],
   "source": [
    "a_virt.value_counts()"
   ]
  },
  {
   "cell_type": "code",
   "execution_count": 8,
   "metadata": {},
   "outputs": [],
   "source": [
    "a_virt = (a_virt == 'Yes, I will attend virtually').values.ravel()"
   ]
  },
  {
   "cell_type": "markdown",
   "metadata": {},
   "source": [
    "Each row represents an attendee, and the columns are their ranked preference for each topic. Choice 1 was their highest preference and Choice 7 was their lowest."
   ]
  },
  {
   "cell_type": "code",
   "execution_count": 9,
   "metadata": {},
   "outputs": [
    {
     "data": {
      "text/html": [
       "<div>\n",
       "<style scoped>\n",
       "    .dataframe tbody tr th:only-of-type {\n",
       "        vertical-align: middle;\n",
       "    }\n",
       "\n",
       "    .dataframe tbody tr th {\n",
       "        vertical-align: top;\n",
       "    }\n",
       "\n",
       "    .dataframe thead th {\n",
       "        text-align: right;\n",
       "    }\n",
       "</style>\n",
       "<table border=\"1\" class=\"dataframe\">\n",
       "  <thead>\n",
       "    <tr style=\"text-align: right;\">\n",
       "      <th></th>\n",
       "      <th>Choice 1</th>\n",
       "      <th>Choice 2</th>\n",
       "      <th>Choice 3</th>\n",
       "      <th>Choice 4</th>\n",
       "      <th>Choice 5</th>\n",
       "      <th>Choice 6</th>\n",
       "      <th>Choice 7</th>\n",
       "      <th>Choice 8</th>\n",
       "      <th>Choice 9</th>\n",
       "      <th>Choice 10</th>\n",
       "      <th>Choice 11</th>\n",
       "      <th>Choice 12</th>\n",
       "      <th>Choice 13</th>\n",
       "    </tr>\n",
       "  </thead>\n",
       "  <tbody>\n",
       "    <tr>\n",
       "      <th>count</th>\n",
       "      <td>415</td>\n",
       "      <td>415</td>\n",
       "      <td>415</td>\n",
       "      <td>415</td>\n",
       "      <td>415</td>\n",
       "      <td>415</td>\n",
       "      <td>415</td>\n",
       "      <td>415</td>\n",
       "      <td>415</td>\n",
       "      <td>415</td>\n",
       "      <td>415</td>\n",
       "      <td>415</td>\n",
       "      <td>415</td>\n",
       "    </tr>\n",
       "    <tr>\n",
       "      <th>unique</th>\n",
       "      <td>15</td>\n",
       "      <td>15</td>\n",
       "      <td>15</td>\n",
       "      <td>15</td>\n",
       "      <td>15</td>\n",
       "      <td>15</td>\n",
       "      <td>15</td>\n",
       "      <td>15</td>\n",
       "      <td>14</td>\n",
       "      <td>14</td>\n",
       "      <td>15</td>\n",
       "      <td>15</td>\n",
       "      <td>15</td>\n",
       "    </tr>\n",
       "    <tr>\n",
       "      <th>top</th>\n",
       "      <td>Build a Bot Using PowerAutomate</td>\n",
       "      <td>The Future of Work: What You Need to Know to N...</td>\n",
       "      <td>Service Design: A Framework for Practical Coll...</td>\n",
       "      <td>Shaping the Future Through Inspiration and Inn...</td>\n",
       "      <td>Build a Bot Using PowerAutomate</td>\n",
       "      <td>Fusion Development with the Microsoft Power Pl...</td>\n",
       "      <td>Introduction to the Seattle Sustainability Team</td>\n",
       "      <td>ESG 101</td>\n",
       "      <td>Architecting for a Sustainable Cloud Future</td>\n",
       "      <td>Energy Demand Nowcasting: How Machine Learning...</td>\n",
       "      <td>Environmental Impact @ Slalom with Net Zero Cloud</td>\n",
       "      <td>MIDL Earth - Digitized</td>\n",
       "      <td>Modern Portfolio Management</td>\n",
       "    </tr>\n",
       "    <tr>\n",
       "      <th>freq</th>\n",
       "      <td>67</td>\n",
       "      <td>53</td>\n",
       "      <td>46</td>\n",
       "      <td>47</td>\n",
       "      <td>116</td>\n",
       "      <td>104</td>\n",
       "      <td>78</td>\n",
       "      <td>80</td>\n",
       "      <td>77</td>\n",
       "      <td>92</td>\n",
       "      <td>95</td>\n",
       "      <td>110</td>\n",
       "      <td>105</td>\n",
       "    </tr>\n",
       "  </tbody>\n",
       "</table>\n",
       "</div>"
      ],
      "text/plain": [
       "                               Choice 1  \\\n",
       "count                               415   \n",
       "unique                               15   \n",
       "top     Build a Bot Using PowerAutomate   \n",
       "freq                                 67   \n",
       "\n",
       "                                                 Choice 2  \\\n",
       "count                                                 415   \n",
       "unique                                                 15   \n",
       "top     The Future of Work: What You Need to Know to N...   \n",
       "freq                                                   53   \n",
       "\n",
       "                                                 Choice 3  \\\n",
       "count                                                 415   \n",
       "unique                                                 15   \n",
       "top     Service Design: A Framework for Practical Coll...   \n",
       "freq                                                   46   \n",
       "\n",
       "                                                 Choice 4  \\\n",
       "count                                                 415   \n",
       "unique                                                 15   \n",
       "top     Shaping the Future Through Inspiration and Inn...   \n",
       "freq                                                   47   \n",
       "\n",
       "                               Choice 5  \\\n",
       "count                               415   \n",
       "unique                               15   \n",
       "top     Build a Bot Using PowerAutomate   \n",
       "freq                                116   \n",
       "\n",
       "                                                 Choice 6  \\\n",
       "count                                                 415   \n",
       "unique                                                 15   \n",
       "top     Fusion Development with the Microsoft Power Pl...   \n",
       "freq                                                  104   \n",
       "\n",
       "                                               Choice 7 Choice 8  \\\n",
       "count                                               415      415   \n",
       "unique                                               15       15   \n",
       "top     Introduction to the Seattle Sustainability Team  ESG 101   \n",
       "freq                                                 78       80   \n",
       "\n",
       "                                           Choice 9  \\\n",
       "count                                           415   \n",
       "unique                                           14   \n",
       "top     Architecting for a Sustainable Cloud Future   \n",
       "freq                                             77   \n",
       "\n",
       "                                                Choice 10  \\\n",
       "count                                                 415   \n",
       "unique                                                 14   \n",
       "top     Energy Demand Nowcasting: How Machine Learning...   \n",
       "freq                                                   92   \n",
       "\n",
       "                                                Choice 11  \\\n",
       "count                                                 415   \n",
       "unique                                                 15   \n",
       "top     Environmental Impact @ Slalom with Net Zero Cloud   \n",
       "freq                                                   95   \n",
       "\n",
       "                      Choice 12                    Choice 13  \n",
       "count                       415                          415  \n",
       "unique                       15                           15  \n",
       "top     MIDL Earth - Digitized   Modern Portfolio Management  \n",
       "freq                        110                          105  "
      ]
     },
     "execution_count": 9,
     "metadata": {},
     "output_type": "execute_result"
    }
   ],
   "source": [
    "df.describe()"
   ]
  },
  {
   "cell_type": "markdown",
   "metadata": {},
   "source": [
    "Looks like there are a number of missing values where someone either hasn't provided a ranking (but they've confirmed they're attending) or they have only provided a top 1,2,3... We'll have to handle all of these cases."
   ]
  },
  {
   "cell_type": "code",
   "execution_count": 10,
   "metadata": {},
   "outputs": [
    {
     "name": "stdout",
     "output_type": "stream",
     "text": [
      "Total number of responses: 427\n"
     ]
    }
   ],
   "source": [
    "# Get total number of respondants\n",
    "N_total = len(df)\n",
    "print(f'Total number of responses: {N_total}')\n",
    "\n",
    "# Create a dictionary of the topics for later use\n",
    "topics = np.unique(df.dropna().values)\n",
    "# topic_map = dict(zip(topics,range(len(topics))))"
   ]
  },
  {
   "cell_type": "code",
   "execution_count": 11,
   "metadata": {},
   "outputs": [
    {
     "data": {
      "text/plain": [
       "array(['Architecting for a Sustainable Cloud Future',\n",
       "       'Build a Bot Using PowerAutomate',\n",
       "       'Customer Data Platforms:  The Innovative intersection of Martech, Machine Learning, and Customer Data',\n",
       "       'ESG 101',\n",
       "       'Energy Demand Nowcasting: How Machine Learning can Help Unlock ESG Enablement',\n",
       "       'Environmental Impact @ Slalom with Net Zero Cloud',\n",
       "       'Fusion Development with the Microsoft Power Platform',\n",
       "       'Introduction to the Seattle Sustainability Team',\n",
       "       'Low Code – Meeting User Needs While Also Being Fast and Lean',\n",
       "       'MIDL Earth - Digitized ', 'Modern Portfolio Management',\n",
       "       'Service Design: A Framework for Practical Collaboration',\n",
       "       'Shaping the Future Through Inspiration and Innovation',\n",
       "       'Starbucks Experimentation Program',\n",
       "       'The Future of Work: What You Need to Know to Navigate this Brave New World'],\n",
       "      dtype=object)"
      ]
     },
     "execution_count": 11,
     "metadata": {},
     "output_type": "execute_result"
    }
   ],
   "source": [
    "topics"
   ]
  },
  {
   "cell_type": "markdown",
   "metadata": {},
   "source": [
    "### Convert the data into a convenient format"
   ]
  },
  {
   "cell_type": "markdown",
   "metadata": {},
   "source": [
    "The data format isn't ideal; we'd like to have topics as the columns and rankings as integer values in the table.\n",
    "\n",
    "Let's convert this into a more convenient shape."
   ]
  },
  {
   "cell_type": "code",
   "execution_count": 12,
   "metadata": {},
   "outputs": [],
   "source": [
    "# Convert to ranked format\n",
    "df = df.reset_index().melt(id_vars='index').dropna().pivot(columns='value',index='index', values='variable') # Index = the id of a particular response\n",
    "df = df.reindex(index) # Reindex because the previous step dropped all the rows where respondant didn't provide any preferences at all"
   ]
  },
  {
   "cell_type": "code",
   "execution_count": 13,
   "metadata": {},
   "outputs": [],
   "source": [
    "# Remove session MIDL Earth\n",
    "df.drop('MIDL Earth - Digitized ',axis=1,inplace=True)\n",
    "topics = np.delete(topics, np.where(topics == 'MIDL Earth - Digitized '))\n",
    "\n",
    "# Remove session CDP\n",
    "df.drop('Customer Data Platforms:  The Innovative intersection of Martech, Machine Learning, and Customer Data',axis=1,inplace=True)\n",
    "topics = np.delete(topics, np.where(topics == 'Customer Data Platforms:  The Innovative intersection of Martech, Machine Learning, and Customer Data'))"
   ]
  },
  {
   "cell_type": "code",
   "execution_count": 14,
   "metadata": {},
   "outputs": [
    {
     "data": {
      "text/plain": [
       "(2, nan)"
      ]
     },
     "execution_count": 14,
     "metadata": {},
     "output_type": "execute_result"
    }
   ],
   "source": [
    "# Convert choice rankings to integers\n",
    "def choice_to_int(choice):\n",
    "    try:\n",
    "        return int(choice.split(' ')[-1])\n",
    "    except:\n",
    "        return np.nan\n",
    "\n",
    "choice_to_int('Choice 2'), choice_to_int(np.nan)"
   ]
  },
  {
   "cell_type": "code",
   "execution_count": 15,
   "metadata": {},
   "outputs": [],
   "source": [
    "# Use applymap to clean every choice\n",
    "df = df.applymap(choice_to_int)"
   ]
  },
  {
   "cell_type": "code",
   "execution_count": 16,
   "metadata": {},
   "outputs": [],
   "source": [
    "# Merge sessions Modern Portfolio Management / Starbucks Experimentation Program = Modern Portfolio Management\n",
    "df['Modern Portfolio Management'] = df.apply(lambda x: min(x['Modern Portfolio Management'], x['Starbucks Experimentation Program']), axis=1)\n",
    "df.drop('Starbucks Experimentation Program',axis=1, inplace=True)\n",
    "topics = np.delete(topics, np.where(topics == 'Starbucks Experimentation Program'))"
   ]
  },
  {
   "cell_type": "code",
   "execution_count": 17,
   "metadata": {},
   "outputs": [],
   "source": [
    "# Merge sessions Modern Portfolio Management / Starbucks Experimentation Program = Modern Portfolio Management\n",
    "df['ESG 101'] = df.apply(lambda x: min(x['ESG 101'], x['Introduction to the Seattle Sustainability Team']), axis=1)\n",
    "df.drop('Introduction to the Seattle Sustainability Team',axis=1, inplace=True)\n",
    "topics = np.delete(topics, np.where(topics == 'Introduction to the Seattle Sustainability Team'))"
   ]
  },
  {
   "cell_type": "markdown",
   "metadata": {},
   "source": [
    "We also want to fill missing preferences; we'll assume an individual's preference for topics not ranked is uniform but lower than those they have ranked."
   ]
  },
  {
   "cell_type": "code",
   "execution_count": 18,
   "metadata": {},
   "outputs": [
    {
     "data": {
      "text/html": [
       "<div>\n",
       "<style scoped>\n",
       "    .dataframe tbody tr th:only-of-type {\n",
       "        vertical-align: middle;\n",
       "    }\n",
       "\n",
       "    .dataframe tbody tr th {\n",
       "        vertical-align: top;\n",
       "    }\n",
       "\n",
       "    .dataframe thead th {\n",
       "        text-align: right;\n",
       "    }\n",
       "</style>\n",
       "<table border=\"1\" class=\"dataframe\">\n",
       "  <thead>\n",
       "    <tr style=\"text-align: right;\">\n",
       "      <th>value</th>\n",
       "      <th>Architecting for a Sustainable Cloud Future</th>\n",
       "      <th>Build a Bot Using PowerAutomate</th>\n",
       "      <th>ESG 101</th>\n",
       "      <th>Energy Demand Nowcasting: How Machine Learning can Help Unlock ESG Enablement</th>\n",
       "      <th>Environmental Impact @ Slalom with Net Zero Cloud</th>\n",
       "      <th>Fusion Development with the Microsoft Power Platform</th>\n",
       "      <th>Low Code – Meeting User Needs While Also Being Fast and Lean</th>\n",
       "      <th>Modern Portfolio Management</th>\n",
       "      <th>Service Design: A Framework for Practical Collaboration</th>\n",
       "      <th>Shaping the Future Through Inspiration and Innovation</th>\n",
       "      <th>The Future of Work: What You Need to Know to Navigate this Brave New World</th>\n",
       "    </tr>\n",
       "  </thead>\n",
       "  <tbody>\n",
       "    <tr>\n",
       "      <th>242</th>\n",
       "      <td>10.0</td>\n",
       "      <td>1.0</td>\n",
       "      <td>9.0</td>\n",
       "      <td>2.0</td>\n",
       "      <td>11.0</td>\n",
       "      <td>7.0</td>\n",
       "      <td>4.0</td>\n",
       "      <td>3.0</td>\n",
       "      <td>12.0</td>\n",
       "      <td>8.0</td>\n",
       "      <td>5.0</td>\n",
       "    </tr>\n",
       "    <tr>\n",
       "      <th>305</th>\n",
       "      <td>8.0</td>\n",
       "      <td>1.0</td>\n",
       "      <td>2.0</td>\n",
       "      <td>6.0</td>\n",
       "      <td>9.0</td>\n",
       "      <td>4.0</td>\n",
       "      <td>13.0</td>\n",
       "      <td>11.0</td>\n",
       "      <td>14.0</td>\n",
       "      <td>7.0</td>\n",
       "      <td>3.0</td>\n",
       "    </tr>\n",
       "    <tr>\n",
       "      <th>101</th>\n",
       "      <td>2.0</td>\n",
       "      <td>6.0</td>\n",
       "      <td>9.0</td>\n",
       "      <td>12.0</td>\n",
       "      <td>13.0</td>\n",
       "      <td>7.0</td>\n",
       "      <td>11.0</td>\n",
       "      <td>4.0</td>\n",
       "      <td>1.0</td>\n",
       "      <td>8.0</td>\n",
       "      <td>3.0</td>\n",
       "    </tr>\n",
       "    <tr>\n",
       "      <th>296</th>\n",
       "      <td>10.0</td>\n",
       "      <td>6.0</td>\n",
       "      <td>3.0</td>\n",
       "      <td>12.0</td>\n",
       "      <td>14.0</td>\n",
       "      <td>7.0</td>\n",
       "      <td>8.0</td>\n",
       "      <td>1.0</td>\n",
       "      <td>2.0</td>\n",
       "      <td>9.0</td>\n",
       "      <td>13.0</td>\n",
       "    </tr>\n",
       "    <tr>\n",
       "      <th>286</th>\n",
       "      <td>9.0</td>\n",
       "      <td>1.0</td>\n",
       "      <td>6.0</td>\n",
       "      <td>4.0</td>\n",
       "      <td>11.0</td>\n",
       "      <td>5.0</td>\n",
       "      <td>8.0</td>\n",
       "      <td>2.0</td>\n",
       "      <td>12.0</td>\n",
       "      <td>3.0</td>\n",
       "      <td>10.0</td>\n",
       "    </tr>\n",
       "  </tbody>\n",
       "</table>\n",
       "</div>"
      ],
      "text/plain": [
       "value  Architecting for a Sustainable Cloud Future  \\\n",
       "242                                           10.0   \n",
       "305                                            8.0   \n",
       "101                                            2.0   \n",
       "296                                           10.0   \n",
       "286                                            9.0   \n",
       "\n",
       "value  Build a Bot Using PowerAutomate  ESG 101  \\\n",
       "242                                1.0      9.0   \n",
       "305                                1.0      2.0   \n",
       "101                                6.0      9.0   \n",
       "296                                6.0      3.0   \n",
       "286                                1.0      6.0   \n",
       "\n",
       "value  Energy Demand Nowcasting: How Machine Learning can Help Unlock ESG Enablement  \\\n",
       "242                                                  2.0                               \n",
       "305                                                  6.0                               \n",
       "101                                                 12.0                               \n",
       "296                                                 12.0                               \n",
       "286                                                  4.0                               \n",
       "\n",
       "value  Environmental Impact @ Slalom with Net Zero Cloud  \\\n",
       "242                                                 11.0   \n",
       "305                                                  9.0   \n",
       "101                                                 13.0   \n",
       "296                                                 14.0   \n",
       "286                                                 11.0   \n",
       "\n",
       "value  Fusion Development with the Microsoft Power Platform  \\\n",
       "242                                                  7.0      \n",
       "305                                                  4.0      \n",
       "101                                                  7.0      \n",
       "296                                                  7.0      \n",
       "286                                                  5.0      \n",
       "\n",
       "value  Low Code – Meeting User Needs While Also Being Fast and Lean  \\\n",
       "242                                                  4.0              \n",
       "305                                                 13.0              \n",
       "101                                                 11.0              \n",
       "296                                                  8.0              \n",
       "286                                                  8.0              \n",
       "\n",
       "value  Modern Portfolio Management  \\\n",
       "242                            3.0   \n",
       "305                           11.0   \n",
       "101                            4.0   \n",
       "296                            1.0   \n",
       "286                            2.0   \n",
       "\n",
       "value  Service Design: A Framework for Practical Collaboration  \\\n",
       "242                                                 12.0         \n",
       "305                                                 14.0         \n",
       "101                                                  1.0         \n",
       "296                                                  2.0         \n",
       "286                                                 12.0         \n",
       "\n",
       "value  Shaping the Future Through Inspiration and Innovation  \\\n",
       "242                                                  8.0       \n",
       "305                                                  7.0       \n",
       "101                                                  8.0       \n",
       "296                                                  9.0       \n",
       "286                                                  3.0       \n",
       "\n",
       "value  The Future of Work: What You Need to Know to Navigate this Brave New World  \n",
       "242                                                  5.0                           \n",
       "305                                                  3.0                           \n",
       "101                                                  3.0                           \n",
       "296                                                 13.0                           \n",
       "286                                                 10.0                           "
      ]
     },
     "execution_count": 18,
     "metadata": {},
     "output_type": "execute_result"
    }
   ],
   "source": [
    "# Add one to the max choice for each row\n",
    "unranked_preference = df.max(axis=1).fillna(0) +1\n",
    "\n",
    "# The column by column replace the missing values with the max per row\n",
    "for col in df.columns:\n",
    "    df[col] = df[col].fillna(value=unranked_preference)\n",
    "df.sample(5, random_state=1990)"
   ]
  },
  {
   "cell_type": "markdown",
   "metadata": {},
   "source": [
    "You can see the response at index `410` didn't provide any choice so every topic has a rank 1."
   ]
  },
  {
   "cell_type": "code",
   "execution_count": 19,
   "metadata": {},
   "outputs": [],
   "source": [
    "# Replace all with rank of value\n",
    "df = df.apply(lambda x: x.rank(method='min'),axis=1)"
   ]
  },
  {
   "cell_type": "markdown",
   "metadata": {},
   "source": [
    "## Analyze Top 3 choices"
   ]
  },
  {
   "cell_type": "code",
   "execution_count": 20,
   "metadata": {},
   "outputs": [
    {
     "data": {
      "text/html": [
       "<div>\n",
       "<style scoped>\n",
       "    .dataframe tbody tr th:only-of-type {\n",
       "        vertical-align: middle;\n",
       "    }\n",
       "\n",
       "    .dataframe tbody tr th {\n",
       "        vertical-align: top;\n",
       "    }\n",
       "\n",
       "    .dataframe thead th {\n",
       "        text-align: right;\n",
       "    }\n",
       "</style>\n",
       "<table border=\"1\" class=\"dataframe\">\n",
       "  <thead>\n",
       "    <tr style=\"text-align: right;\">\n",
       "      <th>virtual</th>\n",
       "      <th>False</th>\n",
       "      <th>True</th>\n",
       "    </tr>\n",
       "    <tr>\n",
       "      <th>variable</th>\n",
       "      <th></th>\n",
       "      <th></th>\n",
       "    </tr>\n",
       "  </thead>\n",
       "  <tbody>\n",
       "    <tr>\n",
       "      <th>Architecting for a Sustainable Cloud Future</th>\n",
       "      <td>68</td>\n",
       "      <td>43</td>\n",
       "    </tr>\n",
       "    <tr>\n",
       "      <th>Build a Bot Using PowerAutomate</th>\n",
       "      <td>106</td>\n",
       "      <td>43</td>\n",
       "    </tr>\n",
       "    <tr>\n",
       "      <th>ESG 101</th>\n",
       "      <td>63</td>\n",
       "      <td>36</td>\n",
       "    </tr>\n",
       "    <tr>\n",
       "      <th>Energy Demand Nowcasting: How Machine Learning can Help Unlock ESG Enablement</th>\n",
       "      <td>48</td>\n",
       "      <td>23</td>\n",
       "    </tr>\n",
       "    <tr>\n",
       "      <th>Environmental Impact @ Slalom with Net Zero Cloud</th>\n",
       "      <td>45</td>\n",
       "      <td>20</td>\n",
       "    </tr>\n",
       "    <tr>\n",
       "      <th>Fusion Development with the Microsoft Power Platform</th>\n",
       "      <td>47</td>\n",
       "      <td>31</td>\n",
       "    </tr>\n",
       "    <tr>\n",
       "      <th>Low Code – Meeting User Needs While Also Being Fast and Lean</th>\n",
       "      <td>95</td>\n",
       "      <td>51</td>\n",
       "    </tr>\n",
       "    <tr>\n",
       "      <th>Modern Portfolio Management</th>\n",
       "      <td>133</td>\n",
       "      <td>58</td>\n",
       "    </tr>\n",
       "    <tr>\n",
       "      <th>Service Design: A Framework for Practical Collaboration</th>\n",
       "      <td>91</td>\n",
       "      <td>45</td>\n",
       "    </tr>\n",
       "    <tr>\n",
       "      <th>Shaping the Future Through Inspiration and Innovation</th>\n",
       "      <td>112</td>\n",
       "      <td>58</td>\n",
       "    </tr>\n",
       "    <tr>\n",
       "      <th>The Future of Work: What You Need to Know to Navigate this Brave New World</th>\n",
       "      <td>101</td>\n",
       "      <td>60</td>\n",
       "    </tr>\n",
       "  </tbody>\n",
       "</table>\n",
       "</div>"
      ],
      "text/plain": [
       "virtual                                             False  True\n",
       "variable                                                       \n",
       "Architecting for a Sustainable Cloud Future            68    43\n",
       "Build a Bot Using PowerAutomate                       106    43\n",
       "ESG 101                                                63    36\n",
       "Energy Demand Nowcasting: How Machine Learning ...     48    23\n",
       "Environmental Impact @ Slalom with Net Zero Cloud      45    20\n",
       "Fusion Development with the Microsoft Power Pla...     47    31\n",
       "Low Code – Meeting User Needs While Also Being ...     95    51\n",
       "Modern Portfolio Management                           133    58\n",
       "Service Design: A Framework for Practical Colla...     91    45\n",
       "Shaping the Future Through Inspiration and Inno...    112    58\n",
       "The Future of Work: What You Need to Know to Na...    101    60"
      ]
     },
     "execution_count": 20,
     "metadata": {},
     "output_type": "execute_result"
    }
   ],
   "source": [
    "top3 = pd.DataFrame(data=df.values, columns=df.columns.values)\n",
    "top3['virtual'] = a_virt\n",
    "top3 = top3.reset_index().melt(id_vars=['index','virtual'])\n",
    "top3 = top3[top3.value<=3]\n",
    "top3.value = 1\n",
    "top3.pivot_table(values='value',index='variable',columns='virtual',aggfunc='sum')"
   ]
  },
  {
   "cell_type": "markdown",
   "metadata": {},
   "source": [
    "## Solve Using Linear Programming\n",
    "\n",
    "We can restate this as a linear programming problem where we have various constraints on the number of attendees in each session, and the number of sessions and topics a particular person can attend. "
   ]
  },
  {
   "cell_type": "markdown",
   "metadata": {},
   "source": [
    "### Assign preference cost\n",
    "We want to assign costs for assigning a particular person to a session, that way we can compute a total of cost of a configuration, and optimize. We can say the cost is zero for assigning them to one of their top 3 sessions, with an increasing cost if we assign them to a lower preference session.\n",
    "\n",
    "Depending on the problem and constraints we might choose different values here. For example if we want to avoid assigning any non-top 3 choices at all we could use a higher value for Choice 4 and on."
   ]
  },
  {
   "cell_type": "code",
   "execution_count": 21,
   "metadata": {},
   "outputs": [
    {
     "name": "stdout",
     "output_type": "stream",
     "text": [
      "Costs by choice: {1: 0, 2: 0, 3: 0, 4: 4, 5: 10, 6: 11, 7: 12, 8: 13, 9: 14, 10: 15, 11: 16, 12: 17, 13: 18}\n"
     ]
    },
    {
     "data": {
      "text/html": [
       "<div>\n",
       "<style scoped>\n",
       "    .dataframe tbody tr th:only-of-type {\n",
       "        vertical-align: middle;\n",
       "    }\n",
       "\n",
       "    .dataframe tbody tr th {\n",
       "        vertical-align: top;\n",
       "    }\n",
       "\n",
       "    .dataframe thead th {\n",
       "        text-align: right;\n",
       "    }\n",
       "</style>\n",
       "<table border=\"1\" class=\"dataframe\">\n",
       "  <thead>\n",
       "    <tr style=\"text-align: right;\">\n",
       "      <th>value</th>\n",
       "      <th>Architecting for a Sustainable Cloud Future</th>\n",
       "      <th>Build a Bot Using PowerAutomate</th>\n",
       "      <th>ESG 101</th>\n",
       "      <th>Energy Demand Nowcasting: How Machine Learning can Help Unlock ESG Enablement</th>\n",
       "      <th>Environmental Impact @ Slalom with Net Zero Cloud</th>\n",
       "      <th>Fusion Development with the Microsoft Power Platform</th>\n",
       "      <th>Low Code – Meeting User Needs While Also Being Fast and Lean</th>\n",
       "      <th>Modern Portfolio Management</th>\n",
       "      <th>Service Design: A Framework for Practical Collaboration</th>\n",
       "      <th>Shaping the Future Through Inspiration and Innovation</th>\n",
       "      <th>The Future of Work: What You Need to Know to Navigate this Brave New World</th>\n",
       "    </tr>\n",
       "  </thead>\n",
       "  <tbody>\n",
       "    <tr>\n",
       "      <th>242</th>\n",
       "      <td>14</td>\n",
       "      <td>0</td>\n",
       "      <td>13</td>\n",
       "      <td>0</td>\n",
       "      <td>15</td>\n",
       "      <td>11</td>\n",
       "      <td>4</td>\n",
       "      <td>0</td>\n",
       "      <td>16</td>\n",
       "      <td>12</td>\n",
       "      <td>10</td>\n",
       "    </tr>\n",
       "    <tr>\n",
       "      <th>305</th>\n",
       "      <td>12</td>\n",
       "      <td>0</td>\n",
       "      <td>0</td>\n",
       "      <td>10</td>\n",
       "      <td>13</td>\n",
       "      <td>4</td>\n",
       "      <td>15</td>\n",
       "      <td>14</td>\n",
       "      <td>16</td>\n",
       "      <td>11</td>\n",
       "      <td>0</td>\n",
       "    </tr>\n",
       "    <tr>\n",
       "      <th>101</th>\n",
       "      <td>0</td>\n",
       "      <td>10</td>\n",
       "      <td>13</td>\n",
       "      <td>15</td>\n",
       "      <td>16</td>\n",
       "      <td>11</td>\n",
       "      <td>14</td>\n",
       "      <td>4</td>\n",
       "      <td>0</td>\n",
       "      <td>12</td>\n",
       "      <td>0</td>\n",
       "    </tr>\n",
       "    <tr>\n",
       "      <th>296</th>\n",
       "      <td>13</td>\n",
       "      <td>4</td>\n",
       "      <td>0</td>\n",
       "      <td>14</td>\n",
       "      <td>16</td>\n",
       "      <td>10</td>\n",
       "      <td>11</td>\n",
       "      <td>0</td>\n",
       "      <td>0</td>\n",
       "      <td>12</td>\n",
       "      <td>15</td>\n",
       "    </tr>\n",
       "    <tr>\n",
       "      <th>286</th>\n",
       "      <td>13</td>\n",
       "      <td>0</td>\n",
       "      <td>11</td>\n",
       "      <td>4</td>\n",
       "      <td>15</td>\n",
       "      <td>10</td>\n",
       "      <td>12</td>\n",
       "      <td>0</td>\n",
       "      <td>16</td>\n",
       "      <td>0</td>\n",
       "      <td>14</td>\n",
       "    </tr>\n",
       "  </tbody>\n",
       "</table>\n",
       "</div>"
      ],
      "text/plain": [
       "value  Architecting for a Sustainable Cloud Future  \\\n",
       "242                                             14   \n",
       "305                                             12   \n",
       "101                                              0   \n",
       "296                                             13   \n",
       "286                                             13   \n",
       "\n",
       "value  Build a Bot Using PowerAutomate  ESG 101  \\\n",
       "242                                  0       13   \n",
       "305                                  0        0   \n",
       "101                                 10       13   \n",
       "296                                  4        0   \n",
       "286                                  0       11   \n",
       "\n",
       "value  Energy Demand Nowcasting: How Machine Learning can Help Unlock ESG Enablement  \\\n",
       "242                                                    0                               \n",
       "305                                                   10                               \n",
       "101                                                   15                               \n",
       "296                                                   14                               \n",
       "286                                                    4                               \n",
       "\n",
       "value  Environmental Impact @ Slalom with Net Zero Cloud  \\\n",
       "242                                                   15   \n",
       "305                                                   13   \n",
       "101                                                   16   \n",
       "296                                                   16   \n",
       "286                                                   15   \n",
       "\n",
       "value  Fusion Development with the Microsoft Power Platform  \\\n",
       "242                                                   11      \n",
       "305                                                    4      \n",
       "101                                                   11      \n",
       "296                                                   10      \n",
       "286                                                   10      \n",
       "\n",
       "value  Low Code – Meeting User Needs While Also Being Fast and Lean  \\\n",
       "242                                                    4              \n",
       "305                                                   15              \n",
       "101                                                   14              \n",
       "296                                                   11              \n",
       "286                                                   12              \n",
       "\n",
       "value  Modern Portfolio Management  \\\n",
       "242                              0   \n",
       "305                             14   \n",
       "101                              4   \n",
       "296                              0   \n",
       "286                              0   \n",
       "\n",
       "value  Service Design: A Framework for Practical Collaboration  \\\n",
       "242                                                   16         \n",
       "305                                                   16         \n",
       "101                                                    0         \n",
       "296                                                    0         \n",
       "286                                                   16         \n",
       "\n",
       "value  Shaping the Future Through Inspiration and Innovation  \\\n",
       "242                                                   12       \n",
       "305                                                   11       \n",
       "101                                                   12       \n",
       "296                                                   12       \n",
       "286                                                    0       \n",
       "\n",
       "value  The Future of Work: What You Need to Know to Navigate this Brave New World  \n",
       "242                                                   10                           \n",
       "305                                                    0                           \n",
       "101                                                    0                           \n",
       "296                                                   15                           \n",
       "286                                                   14                           "
      ]
     },
     "execution_count": 21,
     "metadata": {},
     "output_type": "execute_result"
    }
   ],
   "source": [
    "cost_array = [0,0,0,4,10,11,12,13,14,15,16,17,18]\n",
    "cost_remap = {i:cost_array[i-1] for i in range(1,len(cost_array)+1)}\n",
    "print(f'Costs by choice: {cost_remap}')\n",
    "\n",
    "# Remap values in dataframe\n",
    "df = df.replace(cost_remap).astype(np.int8) # apply our map, and convert to int\n",
    "df.sample(5, random_state=1990)"
   ]
  },
  {
   "cell_type": "markdown",
   "metadata": {},
   "source": [
    "### Convert to a 3D cost matrix\n",
    "We need to assign a cost for allocating each attendee to a topic in each session. There are three sessions and the cost should be the same for a particular attendee to attend a topic regardless of the order they attend. So we need to transform our 2D array of costs into a 3D matrix.\n",
    "\n",
    "We don't really need a 3D cost matrix but it makes it easier to index and the array in the same way when working through constraints."
   ]
  },
  {
   "cell_type": "code",
   "execution_count": 26,
   "metadata": {},
   "outputs": [
    {
     "name": "stdout",
     "output_type": "stream",
     "text": [
      "First dataframe row:\n",
      "value\n",
      "Architecting for a Sustainable Cloud Future                                       0\n",
      "Build a Bot Using PowerAutomate                                                  13\n",
      "ESG 101                                                                          11\n",
      "Energy Demand Nowcasting: How Machine Learning can Help Unlock ESG Enablement    12\n",
      "Environmental Impact @ Slalom with Net Zero Cloud                                 0\n",
      "Fusion Development with the Microsoft Power Platform                             14\n",
      "Low Code – Meeting User Needs While Also Being Fast and Lean                     15\n",
      "Modern Portfolio Management                                                       4\n",
      "Service Design: A Framework for Practical Collaboration                          16\n",
      "Shaping the Future Through Inspiration and Innovation                            10\n",
      "The Future of Work: What You Need to Know to Navigate this Brave New World        0\n",
      "Name: 0, dtype: int8\n",
      "\n",
      "Corresponding item from cost array:\n",
      "[[ 0  0  0]\n",
      " [13 13 13]\n",
      " [11 11 11]\n",
      " [12 12 12]\n",
      " [ 0  0  0]\n",
      " [14 14 14]\n",
      " [15 15 15]\n",
      " [ 4  4  4]\n",
      " [16 16 16]\n",
      " [10 10 10]\n",
      " [ 0  0  0]]\n",
      "\n",
      "Shape of full array: (427, 11, 3)\n"
     ]
    }
   ],
   "source": [
    "cost_matrix = np.dot(np.expand_dims(df.values,-1), np.array([[1,1,1]]))\n",
    "print(f'First dataframe row:\\n{df.iloc[0]}', f'Corresponding item from cost array:\\n{cost_matrix[0]}', f'Shape of full array: {cost_matrix.shape}', sep='\\n\\n')"
   ]
  },
  {
   "cell_type": "markdown",
   "metadata": {},
   "source": [
    "### Mixed Integer Programming\n",
    "\n",
    "Google provides a fast and open source library for solving various combinatorial optimization problems: [Google OR tools](https://developers.google.com/optimization/)([GitHub](https://github.com/google/or-tools)). There are a few ways we could solve this but we'll use the [Mixed Integer Programming (MIP) package](https://developers.google.com/optimization/assignment/assignment_mip)."
   ]
  },
  {
   "cell_type": "markdown",
   "metadata": {},
   "source": [
    "First we need to provide a room capacity, we can adjust these numbers iteratively to best fit sessions into rooms. The iteration process went as follows: assign room capacities run solver, evaluate variance in attendance across sessions and adjust session capacities accordingly."
   ]
  },
  {
   "cell_type": "code",
   "execution_count": 27,
   "metadata": {},
   "outputs": [
    {
     "data": {
      "text/plain": [
       "11"
      ]
     },
     "execution_count": 27,
     "metadata": {},
     "output_type": "execute_result"
    }
   ],
   "source": [
    "len(topics)"
   ]
  },
  {
   "cell_type": "code",
   "execution_count": 168,
   "metadata": {},
   "outputs": [
    {
     "data": {
      "text/plain": [
       "[('Architecting for a Sustainable Cloud Future', 40),\n",
       " ('Build a Bot Using PowerAutomate', 40),\n",
       " ('ESG 101', 40),\n",
       " ('Energy Demand Nowcasting: How Machine Learning can Help Unlock ESG Enablement',\n",
       "  40),\n",
       " ('Environmental Impact @ Slalom with Net Zero Cloud', 40),\n",
       " ('Fusion Development with the Microsoft Power Platform', 40),\n",
       " ('Low Code – Meeting User Needs While Also Being Fast and Lean', 40),\n",
       " ('Modern Portfolio Management', 40),\n",
       " ('Service Design: A Framework for Practical Collaboration', 40),\n",
       " ('Shaping the Future Through Inspiration and Innovation', 40),\n",
       " ('The Future of Work: What You Need to Know to Navigate this Brave New World',\n",
       "  40)]"
      ]
     },
     "execution_count": 168,
     "metadata": {},
     "output_type": "execute_result"
    }
   ],
   "source": [
    "# Set max capacity per room\n",
    "topic_capacities = [45]*len(topics)\n",
    "# topic_capacities = [30]*len(topics)\n",
    "# topic_capacities[0] = 20\n",
    "# topic_capacities[1] = 35\n",
    "# topic_capacities[7] = 42\n",
    "# topic_capacities[9] = 35\n",
    "# topic_capacities[10] = 32\n",
    "list(zip(topics,topic_capacities))"
   ]
  },
  {
   "cell_type": "code",
   "execution_count": 169,
   "metadata": {},
   "outputs": [],
   "source": [
    "N_topics = len(topics)\n",
    "N_sessions = 3"
   ]
  },
  {
   "cell_type": "markdown",
   "metadata": {},
   "source": [
    "### Create a model and define contraints"
   ]
  },
  {
   "cell_type": "code",
   "execution_count": 170,
   "metadata": {},
   "outputs": [],
   "source": [
    "a_virt = [bool(x) for x in a_virt]"
   ]
  },
  {
   "cell_type": "code",
   "execution_count": 171,
   "metadata": {},
   "outputs": [],
   "source": [
    "a_in_p = [not bool(x) for x in a_virt]"
   ]
  },
  {
   "attachments": {
    "a8024d15-6176-4354-9d94-38a1c11485ef.png": {
     "image/png": "[encoded data removed]"
    }
   },
   "cell_type": "markdown",
   "metadata": {},
   "source": [
    "Here's how I figured out the logic in Excel\n",
    "![image.png](attachment:a8024d15-6176-4354-9d94-38a1c11485ef.png)"
   ]
  },
  {
   "cell_type": "code",
   "execution_count": 172,
   "metadata": {},
   "outputs": [],
   "source": [
    "## Create solver model\n",
    "from mip import Model, xsum, BINARY, minimize, OptimizationStatus, INTEGER\n",
    "\n",
    "model = Model()\n",
    "\n",
    "## Create assignment array\n",
    "# A boolean (True/False) value for each possible attendee, topic, session combination\n",
    "# We'll store these in a Numpy array of object datatype for easy indexing\n",
    "# By summing across dimesions of the array we can view and enforce constraints\n",
    "# In Python True is evaluated as 1 in a summation and False is evaluated as 0\n",
    "x = np.zeros((N_total,N_topics,N_sessions), dtype=object)\n",
    "for attendee in range(N_total):\n",
    "    for topic in range(N_topics):\n",
    "        for session in range(N_sessions):\n",
    "            x[attendee, topic, session] = model.add_var(f'x[{attendee}, {topic}, {session}]',\n",
    "                                                        var_type=BINARY)\n",
    "\n",
    "# Variable for virtual sessions            \n",
    "s_virt = np.zeros((N_topics,N_sessions), dtype=object)\n",
    "for t in range(N_topics):\n",
    "    for s in range (N_sessions):\n",
    "        s_virt[t,s] = model.add_var(f's_v[{t},{s}]', var_type=BINARY)\n",
    "\n",
    "# Allow multiplication of variables as per https://groups.google.com/g/python-mip/c/rhS_a78_qx8\n",
    "z = np.zeros((N_total,N_topics,N_sessions), dtype=object)\n",
    "for a in range(N_total):\n",
    "    for t in range(N_topics):\n",
    "        for s in range (N_sessions):\n",
    "            # Create variable\n",
    "            z[a,t,s] = model.add_var(f'z[{a},{t},{s}]', var_type=BINARY)\n",
    "            # Combination of linear terms that equate to required boolean logic\n",
    "            \n",
    "            # Turns out we don't need the values forcing z to be zero if we make this a hard constraint no people can both be virtual and attend in person and vice versa\n",
    "            # Removing these constarins and objectives makes the solver run much faster and finds better solutions\n",
    "            # model.add_constr( z[a,t,s] <= x[a,t,s] ) # Enforces z=0 when x=0 - no penalty (Z<=) when not present\n",
    "            # model.add_constr( z[a,t,s] <= a_virt[a] + s_virt[t,s]) # Enforces not a and not s - both attendee and session are in person, no penalty (Z<=)\n",
    "            # model.add_constr( z[a,t,s] <= 1 - (a_virt[a] * s_virt[t,s]) ) # Enforces a and s - both attendee and session are virtual, no penalty (Z<=)\n",
    "            model.add_constr( z[a,t,s] >= x[a,t,s] - a_virt[a] - (1 - s_virt[t,s]) ) # Enforces penalty (Z>=) when attending and not virtual but session is \n",
    "            model.add_constr( z[a,t,s] >= x[a,t,s] - s_virt[t,s] - (1 - a_virt[a]) ) # Enforces penalty (Z>=) when virtually attending but session is in person\n",
    "            \n",
    "            # Make this a hard constraint i.e. this must be zero but x and s_virt must also conform to these constraints\n",
    "            model.add_constr( z[a,t,s] == 0 )\n",
    "\n",
    "## Objective - minimize the cost of attending non-top3 events\n",
    "obj = []\n",
    "for a in range(N_total):\n",
    "    for t in range(N_topics):\n",
    "        for s in range (N_sessions):\n",
    "            # Creates the objective to minimize the cost for attending a non top3 pick\n",
    "            obj.append(cost_matrix[a,t,s] * x[a,t,s])\n",
    "            # Minimize the number of in person people attending virtual sessions and vice versa - NB made this a constraint by adding z==0 above\n",
    "            # obj.append(99*z[a,t,s]) \n",
    "\n",
    "model.objective = minimize(xsum(obj))\n",
    "\n",
    "## Add constraints to the model\n",
    "# Each attendee attends exactly one topic per session\n",
    "# Therefore the sum across topics for each attendee, session is 1\n",
    "for a in range(N_total):\n",
    "    for s in range(N_sessions):\n",
    "        model += xsum(x[a,t,s] for t in range(N_topics)) == 1\n",
    "\n",
    "# Each attendee attends each topic no more than 1 time\n",
    "# For each attendee, topic the sum can be 1 or 0\n",
    "for a in range(N_total):\n",
    "    for t in range(N_topics):\n",
    "        model += xsum(x[a,t,s] for s in range(N_sessions)) <= 1\n",
    "\n",
    "# Max people per session\n",
    "# Total count of attendees for each session to be less than capacities defined\n",
    "for s in range(N_sessions):\n",
    "    for t in range(N_topics):\n",
    "        # #No virtual sessions for topics 3,4\n",
    "        # if t in [3,4]:\n",
    "        #     model += xsum(a_virt[a] * x[a,t,s] for a in range(N_total)) == 0\n",
    "        model += xsum(a_in_p[a] * x[a,t,s] for a in range(N_total)) <= topic_capacities[t] # Only care about in person capacities\n",
    "        # model += xsum(a_in_p[a] * x[a,t,s] for a in range(N_total)) >= 15"
   ]
  },
  {
   "cell_type": "code",
   "execution_count": 173,
   "metadata": {},
   "outputs": [
    {
     "data": {
      "text/plain": [
       "<OptimizationStatus.FEASIBLE: 3>"
      ]
     },
     "execution_count": 173,
     "metadata": {},
     "output_type": "execute_result"
    }
   ],
   "source": [
    "# optimizing\n",
    "model.optimize(max_seconds=3*60)"
   ]
  },
  {
   "cell_type": "code",
   "execution_count": 174,
   "metadata": {},
   "outputs": [
    {
     "data": {
      "text/plain": [
       "1728.0"
      ]
     },
     "execution_count": 174,
     "metadata": {},
     "output_type": "execute_result"
    }
   ],
   "source": [
    "model.objective.x"
   ]
  },
  {
   "cell_type": "code",
   "execution_count": 175,
   "metadata": {},
   "outputs": [],
   "source": [
    "s_sol = np.full_like(s_virt,0, dtype=int)\n",
    "for t in range(N_topics):\n",
    "    for s in range(N_sessions):\n",
    "        s_sol[t,s] = s_virt[t,s].x"
   ]
  },
  {
   "cell_type": "code",
   "execution_count": 176,
   "metadata": {},
   "outputs": [],
   "source": [
    "# Return resulting solution to a new array\n",
    "x_sol = np.full_like(x, 0, dtype=int)\n",
    "for a in range(N_total):\n",
    "    for t in range(N_topics):\n",
    "        for s in range(3):\n",
    "            x_sol[a,t,s] = x[a,t,s].x"
   ]
  },
  {
   "cell_type": "code",
   "execution_count": 177,
   "metadata": {},
   "outputs": [],
   "source": [
    "# Return resulting solution to a new array\n",
    "z_sol = np.full_like(z, 0, dtype=int)\n",
    "for a in range(N_total):\n",
    "    for t in range(N_topics):\n",
    "        for s in range(3):\n",
    "            z_sol[a,t,s] = z[a,t,s].x"
   ]
  },
  {
   "cell_type": "code",
   "execution_count": 178,
   "metadata": {},
   "outputs": [
    {
     "data": {
      "text/plain": [
       "1728"
      ]
     },
     "execution_count": 178,
     "metadata": {},
     "output_type": "execute_result"
    }
   ],
   "source": [
    "# People not in top 3\n",
    "np.sum((x_sol * cost_matrix))"
   ]
  },
  {
   "cell_type": "code",
   "execution_count": 179,
   "metadata": {},
   "outputs": [
    {
     "data": {
      "text/plain": [
       "0"
      ]
     },
     "execution_count": 179,
     "metadata": {},
     "output_type": "execute_result"
    }
   ],
   "source": [
    "np.sum(z_sol)"
   ]
  },
  {
   "cell_type": "markdown",
   "metadata": {},
   "source": [
    "## Run Optimizer again with fixed virtual / non virtual"
   ]
  },
  {
   "cell_type": "code",
   "execution_count": 180,
   "metadata": {},
   "outputs": [
    {
     "data": {
      "text/plain": [
       "array([[1, 0, 0],\n",
       "       [0, 1, 0],\n",
       "       [0, 0, 0],\n",
       "       [0, 0, 1],\n",
       "       [0, 1, 0],\n",
       "       [0, 0, 1],\n",
       "       [0, 0, 0],\n",
       "       [0, 1, 0],\n",
       "       [0, 0, 0],\n",
       "       [1, 0, 0],\n",
       "       [0, 0, 1]])"
      ]
     },
     "execution_count": 180,
     "metadata": {},
     "output_type": "execute_result"
    }
   ],
   "source": [
    "s_sol"
   ]
  },
  {
   "cell_type": "code",
   "execution_count": 181,
   "metadata": {},
   "outputs": [],
   "source": [
    "## Create solver model\n",
    "from mip import Model, xsum, BINARY, minimize, OptimizationStatus, INTEGER\n",
    "\n",
    "model = Model()\n",
    "\n",
    "## Create assignment array\n",
    "# A boolean (True/False) value for each possible attendee, topic, session combination\n",
    "# We'll store these in a Numpy array of object datatype for easy indexing\n",
    "# By summing across dimesions of the array we can view and enforce constraints\n",
    "# In Python True is evaluated as 1 in a summation and False is evaluated as 0\n",
    "x = np.zeros((N_total,N_topics,N_sessions), dtype=object)\n",
    "for attendee in range(N_total):\n",
    "    for topic in range(N_topics):\n",
    "        for session in range(N_sessions):\n",
    "            x[attendee, topic, session] = model.add_var(f'x[{attendee}, {topic}, {session}]',\n",
    "                                                        var_type=BINARY)\n",
    "\n",
    "# Enforce: No virtual sessions have in person attendees and vice versa\n",
    "# The reason we can multiply x and s now is that s is now a constant; otherwise we would have a quadratic problem \n",
    "model += xsum([s_sol[t,s] * (not a_virt[a]) * x[a,t,s] for a in range(N_total) for t in range(N_topics) for s in range(N_sessions)]) == 0\n",
    "model += xsum([(not s_sol[t,s]) * a_virt[a] * x[a,t,s] for a in range(N_total) for t in range(N_topics) for s in range(N_sessions)]) == 0\n",
    "        \n",
    "obj = []\n",
    "for a in range(N_total):\n",
    "    for t in range(N_topics):\n",
    "        for s in range (N_sessions):\n",
    "            obj.append(cost_matrix[a,t,s] * x[a,t,s])\n",
    "\n",
    "model.objective = minimize(xsum(obj))\n",
    "\n",
    "## Add constraints to the model\n",
    "# Each attendee attends exactly one topic per session\n",
    "# Therefore the sum across topics for each attendee, session is 1\n",
    "for a in range(N_total):\n",
    "    for s in range(N_sessions):\n",
    "        model += xsum(x[a,t,s] for t in range(N_topics)) == 1\n",
    "\n",
    "# Each attendee attends each topic no more than 1 time\n",
    "# For each attendee, topic the sum can be 1 or 0\n",
    "for a in range(N_total):\n",
    "    for t in range(N_topics):\n",
    "        model += xsum(x[a,t,s] for s in range(N_sessions)) <= 1\n",
    "\n",
    "# Max people per session\n",
    "# Total count of attendees for each session to be less than capacities defined\n",
    "for s in range(N_sessions):\n",
    "    for t in range(N_topics):\n",
    "        model += xsum(a_in_p[a] * x[a,t,s] for a in range(N_total)) <= topic_capacities[t]"
   ]
  },
  {
   "cell_type": "code",
   "execution_count": 182,
   "metadata": {},
   "outputs": [
    {
     "data": {
      "text/plain": [
       "<OptimizationStatus.OPTIMAL: 0>"
      ]
     },
     "execution_count": 182,
     "metadata": {},
     "output_type": "execute_result"
    }
   ],
   "source": [
    "# optimizing\n",
    "model.optimize(max_seconds=30)"
   ]
  },
  {
   "cell_type": "code",
   "execution_count": 183,
   "metadata": {},
   "outputs": [
    {
     "data": {
      "text/plain": [
       "1530.0"
      ]
     },
     "execution_count": 183,
     "metadata": {},
     "output_type": "execute_result"
    }
   ],
   "source": [
    "model.objective.x"
   ]
  },
  {
   "cell_type": "code",
   "execution_count": 184,
   "metadata": {},
   "outputs": [],
   "source": [
    "# Return resulting solution to a new array\n",
    "x_sol = np.full_like(x, 0, dtype=int)\n",
    "for a in range(N_total):\n",
    "    for t in range(N_topics):\n",
    "        for s in range(3):\n",
    "            x_sol[a,t,s] = x[a,t,s].x"
   ]
  },
  {
   "cell_type": "code",
   "execution_count": 185,
   "metadata": {},
   "outputs": [
    {
     "data": {
      "text/plain": [
       "1530"
      ]
     },
     "execution_count": 185,
     "metadata": {},
     "output_type": "execute_result"
    }
   ],
   "source": [
    "# People not in top 3\n",
    "np.sum((x_sol * cost_matrix))"
   ]
  },
  {
   "cell_type": "code",
   "execution_count": 186,
   "metadata": {
    "scrolled": true,
    "tags": []
   },
   "outputs": [
    {
     "name": "stdout",
     "output_type": "stream",
     "text": [
      "Attendee 1 for topic 1, session 1, had a cost of 4, attendee is virtual?: True\n",
      "Attendee 2 for topic 5, session 2, had a cost of 4, attendee is virtual?: True\n",
      "Attendee 3 for topic 2, session 0, had a cost of 4, attendee is virtual?: False\n",
      "Attendee 7 for topic 5, session 2, had a cost of 4, attendee is virtual?: True\n",
      "Attendee 9 for topic 0, session 0, had a cost of 11, attendee is virtual?: True\n",
      "Attendee 10 for topic 5, session 2, had a cost of 11, attendee is virtual?: True\n",
      "Attendee 10 for topic 9, session 0, had a cost of 4, attendee is virtual?: True\n",
      "Attendee 16 for topic 2, session 2, had a cost of 4, attendee is virtual?: False\n",
      "Attendee 17 for topic 4, session 2, had a cost of 4, attendee is virtual?: False\n",
      "Attendee 20 for topic 4, session 2, had a cost of 4, attendee is virtual?: False\n",
      "Attendee 23 for topic 6, session 1, had a cost of 4, attendee is virtual?: False\n",
      "Attendee 24 for topic 8, session 1, had a cost of 4, attendee is virtual?: False\n",
      "Attendee 26 for topic 0, session 2, had a cost of 4, attendee is virtual?: False\n",
      "Attendee 31 for topic 5, session 0, had a cost of 4, attendee is virtual?: False\n",
      "Attendee 33 for topic 0, session 0, had a cost of 4, attendee is virtual?: True\n",
      "Attendee 36 for topic 4, session 0, had a cost of 4, attendee is virtual?: False\n",
      "Attendee 37 for topic 1, session 1, had a cost of 10, attendee is virtual?: True\n",
      "Attendee 39 for topic 2, session 0, had a cost of 4, attendee is virtual?: False\n",
      "Attendee 42 for topic 8, session 2, had a cost of 4, attendee is virtual?: False\n",
      "Attendee 44 for topic 9, session 0, had a cost of 11, attendee is virtual?: True\n",
      "Attendee 46 for topic 5, session 0, had a cost of 4, attendee is virtual?: False\n",
      "Attendee 48 for topic 1, session 1, had a cost of 11, attendee is virtual?: True\n",
      "Attendee 49 for topic 0, session 2, had a cost of 4, attendee is virtual?: False\n",
      "Attendee 52 for topic 9, session 0, had a cost of 10, attendee is virtual?: True\n",
      "Attendee 53 for topic 3, session 0, had a cost of 4, attendee is virtual?: False\n",
      "Attendee 54 for topic 4, session 2, had a cost of 4, attendee is virtual?: False\n",
      "Attendee 55 for topic 0, session 0, had a cost of 10, attendee is virtual?: True\n",
      "Attendee 55 for topic 5, session 2, had a cost of 4, attendee is virtual?: True\n",
      "Attendee 56 for topic 7, session 1, had a cost of 4, attendee is virtual?: True\n",
      "Attendee 56 for topic 10, session 2, had a cost of 10, attendee is virtual?: True\n",
      "Attendee 58 for topic 2, session 2, had a cost of 4, attendee is virtual?: False\n",
      "Attendee 59 for topic 0, session 2, had a cost of 4, attendee is virtual?: False\n",
      "Attendee 65 for topic 4, session 1, had a cost of 4, attendee is virtual?: True\n",
      "Attendee 66 for topic 9, session 0, had a cost of 4, attendee is virtual?: True\n",
      "Attendee 67 for topic 6, session 2, had a cost of 4, attendee is virtual?: False\n",
      "Attendee 71 for topic 2, session 1, had a cost of 4, attendee is virtual?: False\n",
      "Attendee 72 for topic 8, session 0, had a cost of 4, attendee is virtual?: False\n",
      "Attendee 73 for topic 7, session 1, had a cost of 4, attendee is virtual?: True\n",
      "Attendee 75 for topic 5, session 2, had a cost of 11, attendee is virtual?: True\n",
      "Attendee 75 for topic 9, session 0, had a cost of 4, attendee is virtual?: True\n",
      "Attendee 77 for topic 7, session 1, had a cost of 4, attendee is virtual?: True\n",
      "Attendee 77 for topic 9, session 0, had a cost of 12, attendee is virtual?: True\n",
      "Attendee 79 for topic 1, session 1, had a cost of 4, attendee is virtual?: True\n",
      "Attendee 79 for topic 9, session 0, had a cost of 11, attendee is virtual?: True\n",
      "Attendee 80 for topic 9, session 0, had a cost of 4, attendee is virtual?: True\n",
      "Attendee 81 for topic 8, session 0, had a cost of 4, attendee is virtual?: False\n",
      "Attendee 83 for topic 3, session 2, had a cost of 4, attendee is virtual?: True\n",
      "Attendee 86 for topic 5, session 2, had a cost of 11, attendee is virtual?: True\n",
      "Attendee 90 for topic 0, session 0, had a cost of 4, attendee is virtual?: True\n",
      "Attendee 90 for topic 1, session 1, had a cost of 10, attendee is virtual?: True\n",
      "Attendee 96 for topic 3, session 2, had a cost of 11, attendee is virtual?: True\n",
      "Attendee 98 for topic 5, session 2, had a cost of 11, attendee is virtual?: True\n",
      "Attendee 99 for topic 7, session 1, had a cost of 4, attendee is virtual?: True\n",
      "Attendee 100 for topic 5, session 2, had a cost of 4, attendee is virtual?: True\n",
      "Attendee 102 for topic 0, session 1, had a cost of 4, attendee is virtual?: False\n",
      "Attendee 103 for topic 7, session 1, had a cost of 4, attendee is virtual?: True\n",
      "Attendee 107 for topic 6, session 1, had a cost of 4, attendee is virtual?: False\n",
      "Attendee 111 for topic 6, session 0, had a cost of 4, attendee is virtual?: False\n",
      "Attendee 114 for topic 1, session 1, had a cost of 4, attendee is virtual?: True\n",
      "Attendee 117 for topic 5, session 2, had a cost of 10, attendee is virtual?: True\n",
      "Attendee 117 for topic 9, session 0, had a cost of 11, attendee is virtual?: True\n",
      "Attendee 120 for topic 8, session 1, had a cost of 4, attendee is virtual?: False\n",
      "Attendee 123 for topic 4, session 0, had a cost of 4, attendee is virtual?: False\n",
      "Attendee 128 for topic 5, session 0, had a cost of 4, attendee is virtual?: False\n",
      "Attendee 130 for topic 5, session 0, had a cost of 4, attendee is virtual?: False\n",
      "Attendee 131 for topic 1, session 1, had a cost of 4, attendee is virtual?: True\n",
      "Attendee 131 for topic 5, session 2, had a cost of 10, attendee is virtual?: True\n",
      "Attendee 132 for topic 3, session 2, had a cost of 10, attendee is virtual?: True\n",
      "Attendee 132 for topic 4, session 1, had a cost of 12, attendee is virtual?: True\n",
      "Attendee 133 for topic 7, session 1, had a cost of 10, attendee is virtual?: True\n",
      "Attendee 134 for topic 1, session 1, had a cost of 4, attendee is virtual?: True\n",
      "Attendee 135 for topic 7, session 1, had a cost of 4, attendee is virtual?: True\n",
      "Attendee 136 for topic 2, session 2, had a cost of 4, attendee is virtual?: False\n",
      "Attendee 139 for topic 1, session 1, had a cost of 14, attendee is virtual?: True\n",
      "Attendee 139 for topic 9, session 0, had a cost of 11, attendee is virtual?: True\n",
      "Attendee 140 for topic 1, session 1, had a cost of 10, attendee is virtual?: True\n",
      "Attendee 141 for topic 2, session 2, had a cost of 4, attendee is virtual?: False\n",
      "Attendee 143 for topic 2, session 2, had a cost of 4, attendee is virtual?: False\n",
      "Attendee 148 for topic 9, session 0, had a cost of 4, attendee is virtual?: True\n",
      "Attendee 151 for topic 1, session 1, had a cost of 11, attendee is virtual?: True\n",
      "Attendee 153 for topic 9, session 0, had a cost of 12, attendee is virtual?: True\n",
      "Attendee 154 for topic 5, session 1, had a cost of 4, attendee is virtual?: False\n",
      "Attendee 156 for topic 8, session 0, had a cost of 4, attendee is virtual?: False\n",
      "Attendee 158 for topic 8, session 1, had a cost of 4, attendee is virtual?: False\n",
      "Attendee 159 for topic 6, session 0, had a cost of 4, attendee is virtual?: False\n",
      "Attendee 161 for topic 0, session 0, had a cost of 4, attendee is virtual?: True\n",
      "Attendee 161 for topic 5, session 2, had a cost of 11, attendee is virtual?: True\n",
      "Attendee 164 for topic 8, session 2, had a cost of 4, attendee is virtual?: False\n",
      "Attendee 165 for topic 9, session 0, had a cost of 11, attendee is virtual?: True\n",
      "Attendee 166 for topic 4, session 2, had a cost of 4, attendee is virtual?: False\n",
      "Attendee 168 for topic 0, session 1, had a cost of 4, attendee is virtual?: False\n",
      "Attendee 169 for topic 9, session 0, had a cost of 4, attendee is virtual?: True\n",
      "Attendee 171 for topic 3, session 2, had a cost of 10, attendee is virtual?: True\n",
      "Attendee 172 for topic 3, session 0, had a cost of 4, attendee is virtual?: False\n",
      "Attendee 173 for topic 3, session 1, had a cost of 4, attendee is virtual?: False\n",
      "Attendee 175 for topic 9, session 0, had a cost of 11, attendee is virtual?: True\n",
      "Attendee 178 for topic 1, session 1, had a cost of 10, attendee is virtual?: True\n",
      "Attendee 180 for topic 5, session 2, had a cost of 10, attendee is virtual?: True\n",
      "Attendee 181 for topic 0, session 0, had a cost of 11, attendee is virtual?: True\n",
      "Attendee 181 for topic 5, session 2, had a cost of 10, attendee is virtual?: True\n",
      "Attendee 184 for topic 10, session 2, had a cost of 10, attendee is virtual?: True\n",
      "Attendee 186 for topic 6, session 2, had a cost of 4, attendee is virtual?: False\n",
      "Attendee 187 for topic 1, session 1, had a cost of 4, attendee is virtual?: True\n",
      "Attendee 188 for topic 2, session 0, had a cost of 4, attendee is virtual?: False\n",
      "Attendee 189 for topic 9, session 0, had a cost of 11, attendee is virtual?: True\n",
      "Attendee 191 for topic 0, session 0, had a cost of 11, attendee is virtual?: True\n",
      "Attendee 192 for topic 2, session 2, had a cost of 4, attendee is virtual?: False\n",
      "Attendee 195 for topic 6, session 1, had a cost of 4, attendee is virtual?: False\n",
      "Attendee 196 for topic 8, session 2, had a cost of 4, attendee is virtual?: False\n",
      "Attendee 199 for topic 9, session 0, had a cost of 10, attendee is virtual?: True\n",
      "Attendee 200 for topic 8, session 1, had a cost of 4, attendee is virtual?: False\n",
      "Attendee 201 for topic 8, session 2, had a cost of 4, attendee is virtual?: False\n",
      "Attendee 202 for topic 9, session 0, had a cost of 14, attendee is virtual?: True\n",
      "Attendee 207 for topic 10, session 2, had a cost of 4, attendee is virtual?: True\n",
      "Attendee 210 for topic 9, session 0, had a cost of 10, attendee is virtual?: True\n",
      "Attendee 216 for topic 9, session 0, had a cost of 11, attendee is virtual?: True\n",
      "Attendee 218 for topic 6, session 1, had a cost of 4, attendee is virtual?: False\n",
      "Attendee 220 for topic 2, session 0, had a cost of 4, attendee is virtual?: False\n",
      "Attendee 221 for topic 7, session 1, had a cost of 4, attendee is virtual?: True\n",
      "Attendee 222 for topic 9, session 0, had a cost of 11, attendee is virtual?: True\n",
      "Attendee 225 for topic 9, session 0, had a cost of 13, attendee is virtual?: True\n",
      "Attendee 225 for topic 10, session 2, had a cost of 11, attendee is virtual?: True\n",
      "Attendee 226 for topic 9, session 0, had a cost of 11, attendee is virtual?: True\n",
      "Attendee 229 for topic 9, session 0, had a cost of 12, attendee is virtual?: True\n",
      "Attendee 229 for topic 10, session 2, had a cost of 4, attendee is virtual?: True\n",
      "Attendee 231 for topic 5, session 2, had a cost of 11, attendee is virtual?: True\n",
      "Attendee 232 for topic 5, session 1, had a cost of 4, attendee is virtual?: False\n",
      "Attendee 233 for topic 0, session 1, had a cost of 4, attendee is virtual?: False\n",
      "Attendee 234 for topic 6, session 0, had a cost of 4, attendee is virtual?: False\n",
      "Attendee 235 for topic 5, session 0, had a cost of 4, attendee is virtual?: False\n",
      "Attendee 236 for topic 5, session 2, had a cost of 12, attendee is virtual?: True\n",
      "Attendee 237 for topic 1, session 1, had a cost of 4, attendee is virtual?: True\n",
      "Attendee 238 for topic 8, session 1, had a cost of 4, attendee is virtual?: False\n",
      "Attendee 240 for topic 0, session 1, had a cost of 4, attendee is virtual?: False\n",
      "Attendee 241 for topic 9, session 0, had a cost of 4, attendee is virtual?: True\n",
      "Attendee 243 for topic 0, session 1, had a cost of 4, attendee is virtual?: False\n",
      "Attendee 244 for topic 6, session 0, had a cost of 4, attendee is virtual?: False\n",
      "Attendee 247 for topic 10, session 2, had a cost of 4, attendee is virtual?: True\n",
      "Attendee 248 for topic 6, session 1, had a cost of 4, attendee is virtual?: False\n",
      "Attendee 249 for topic 0, session 2, had a cost of 4, attendee is virtual?: False\n",
      "Attendee 250 for topic 8, session 1, had a cost of 4, attendee is virtual?: False\n",
      "Attendee 254 for topic 3, session 2, had a cost of 10, attendee is virtual?: True\n",
      "Attendee 256 for topic 2, session 2, had a cost of 4, attendee is virtual?: False\n",
      "Attendee 257 for topic 3, session 1, had a cost of 4, attendee is virtual?: False\n",
      "Attendee 261 for topic 6, session 2, had a cost of 4, attendee is virtual?: False\n",
      "Attendee 262 for topic 0, session 1, had a cost of 4, attendee is virtual?: False\n",
      "Attendee 263 for topic 4, session 0, had a cost of 4, attendee is virtual?: False\n",
      "Attendee 267 for topic 9, session 0, had a cost of 12, attendee is virtual?: True\n",
      "Attendee 269 for topic 8, session 1, had a cost of 4, attendee is virtual?: False\n",
      "Attendee 271 for topic 3, session 0, had a cost of 4, attendee is virtual?: False\n",
      "Attendee 272 for topic 5, session 1, had a cost of 4, attendee is virtual?: False\n",
      "Attendee 274 for topic 3, session 0, had a cost of 4, attendee is virtual?: False\n",
      "Attendee 276 for topic 9, session 0, had a cost of 4, attendee is virtual?: True\n",
      "Attendee 277 for topic 1, session 1, had a cost of 11, attendee is virtual?: True\n",
      "Attendee 278 for topic 9, session 0, had a cost of 4, attendee is virtual?: True\n",
      "Attendee 279 for topic 5, session 2, had a cost of 10, attendee is virtual?: True\n",
      "Attendee 283 for topic 0, session 0, had a cost of 4, attendee is virtual?: True\n",
      "Attendee 284 for topic 5, session 2, had a cost of 10, attendee is virtual?: True\n",
      "Attendee 285 for topic 10, session 2, had a cost of 4, attendee is virtual?: True\n",
      "Attendee 286 for topic 4, session 1, had a cost of 13, attendee is virtual?: True\n",
      "Attendee 286 for topic 9, session 0, had a cost of 10, attendee is virtual?: True\n",
      "Attendee 287 for topic 9, session 0, had a cost of 11, attendee is virtual?: True\n",
      "Attendee 288 for topic 4, session 1, had a cost of 4, attendee is virtual?: True\n",
      "Attendee 289 for topic 9, session 0, had a cost of 4, attendee is virtual?: True\n",
      "Attendee 290 for topic 1, session 1, had a cost of 11, attendee is virtual?: True\n",
      "Attendee 292 for topic 2, session 0, had a cost of 4, attendee is virtual?: False\n",
      "Attendee 293 for topic 5, session 2, had a cost of 4, attendee is virtual?: True\n",
      "Attendee 295 for topic 7, session 1, had a cost of 10, attendee is virtual?: True\n",
      "Attendee 296 for topic 5, session 2, had a cost of 4, attendee is virtual?: True\n",
      "Attendee 297 for topic 6, session 1, had a cost of 4, attendee is virtual?: False\n",
      "Attendee 298 for topic 5, session 2, had a cost of 11, attendee is virtual?: True\n",
      "Attendee 298 for topic 7, session 1, had a cost of 4, attendee is virtual?: True\n",
      "Attendee 299 for topic 6, session 2, had a cost of 4, attendee is virtual?: False\n",
      "Attendee 300 for topic 4, session 0, had a cost of 4, attendee is virtual?: False\n",
      "Attendee 301 for topic 1, session 1, had a cost of 4, attendee is virtual?: True\n",
      "Attendee 303 for topic 5, session 2, had a cost of 10, attendee is virtual?: True\n",
      "Attendee 306 for topic 5, session 2, had a cost of 11, attendee is virtual?: True\n",
      "Attendee 306 for topic 9, session 0, had a cost of 4, attendee is virtual?: True\n",
      "Attendee 307 for topic 3, session 2, had a cost of 14, attendee is virtual?: True\n",
      "Attendee 307 for topic 9, session 0, had a cost of 4, attendee is virtual?: True\n",
      "Attendee 308 for topic 3, session 1, had a cost of 4, attendee is virtual?: False\n",
      "Attendee 310 for topic 10, session 2, had a cost of 4, attendee is virtual?: True\n",
      "Attendee 313 for topic 2, session 0, had a cost of 4, attendee is virtual?: False\n",
      "Attendee 314 for topic 0, session 1, had a cost of 4, attendee is virtual?: False\n",
      "Attendee 315 for topic 4, session 1, had a cost of 4, attendee is virtual?: True\n",
      "Attendee 315 for topic 9, session 0, had a cost of 11, attendee is virtual?: True\n",
      "Attendee 317 for topic 5, session 0, had a cost of 4, attendee is virtual?: False\n",
      "Attendee 321 for topic 2, session 1, had a cost of 4, attendee is virtual?: False\n",
      "Attendee 323 for topic 5, session 2, had a cost of 4, attendee is virtual?: True\n",
      "Attendee 323 for topic 9, session 0, had a cost of 11, attendee is virtual?: True\n",
      "Attendee 326 for topic 3, session 0, had a cost of 4, attendee is virtual?: False\n",
      "Attendee 327 for topic 4, session 2, had a cost of 4, attendee is virtual?: False\n",
      "Attendee 333 for topic 3, session 2, had a cost of 10, attendee is virtual?: True\n",
      "Attendee 334 for topic 5, session 1, had a cost of 4, attendee is virtual?: False\n",
      "Attendee 336 for topic 2, session 2, had a cost of 4, attendee is virtual?: False\n",
      "Attendee 337 for topic 9, session 0, had a cost of 10, attendee is virtual?: True\n",
      "Attendee 338 for topic 4, session 0, had a cost of 4, attendee is virtual?: False\n",
      "Attendee 339 for topic 9, session 0, had a cost of 10, attendee is virtual?: True\n",
      "Attendee 340 for topic 7, session 1, had a cost of 4, attendee is virtual?: True\n",
      "Attendee 342 for topic 6, session 0, had a cost of 4, attendee is virtual?: False\n",
      "Attendee 345 for topic 5, session 2, had a cost of 11, attendee is virtual?: True\n",
      "Attendee 347 for topic 9, session 0, had a cost of 4, attendee is virtual?: True\n",
      "Attendee 350 for topic 2, session 2, had a cost of 4, attendee is virtual?: False\n",
      "Attendee 351 for topic 5, session 2, had a cost of 11, attendee is virtual?: True\n",
      "Attendee 353 for topic 0, session 0, had a cost of 4, attendee is virtual?: True\n",
      "Attendee 354 for topic 5, session 2, had a cost of 4, attendee is virtual?: True\n",
      "Attendee 358 for topic 5, session 2, had a cost of 4, attendee is virtual?: True\n",
      "Attendee 359 for topic 3, session 0, had a cost of 4, attendee is virtual?: False\n",
      "Attendee 361 for topic 9, session 0, had a cost of 4, attendee is virtual?: True\n",
      "Attendee 362 for topic 0, session 0, had a cost of 4, attendee is virtual?: True\n",
      "Attendee 365 for topic 5, session 0, had a cost of 4, attendee is virtual?: False\n",
      "Attendee 366 for topic 6, session 2, had a cost of 4, attendee is virtual?: False\n",
      "Attendee 372 for topic 2, session 0, had a cost of 4, attendee is virtual?: False\n",
      "Attendee 373 for topic 9, session 0, had a cost of 11, attendee is virtual?: True\n",
      "Attendee 374 for topic 8, session 1, had a cost of 4, attendee is virtual?: False\n",
      "Attendee 378 for topic 4, session 1, had a cost of 4, attendee is virtual?: True\n",
      "Attendee 379 for topic 1, session 1, had a cost of 10, attendee is virtual?: True\n",
      "Attendee 379 for topic 9, session 0, had a cost of 4, attendee is virtual?: True\n",
      "Attendee 381 for topic 7, session 1, had a cost of 4, attendee is virtual?: True\n",
      "Attendee 381 for topic 9, session 0, had a cost of 13, attendee is virtual?: True\n",
      "Attendee 383 for topic 0, session 0, had a cost of 4, attendee is virtual?: True\n",
      "Attendee 383 for topic 5, session 2, had a cost of 11, attendee is virtual?: True\n",
      "Attendee 386 for topic 0, session 0, had a cost of 4, attendee is virtual?: True\n",
      "Attendee 389 for topic 9, session 0, had a cost of 4, attendee is virtual?: True\n",
      "Attendee 392 for topic 7, session 1, had a cost of 10, attendee is virtual?: True\n",
      "Attendee 395 for topic 1, session 1, had a cost of 4, attendee is virtual?: True\n",
      "Attendee 395 for topic 9, session 0, had a cost of 10, attendee is virtual?: True\n",
      "Attendee 397 for topic 1, session 1, had a cost of 4, attendee is virtual?: True\n",
      "Attendee 397 for topic 9, session 0, had a cost of 11, attendee is virtual?: True\n",
      "Attendee 399 for topic 4, session 1, had a cost of 10, attendee is virtual?: True\n",
      "Attendee 399 for topic 5, session 2, had a cost of 12, attendee is virtual?: True\n",
      "Attendee 400 for topic 1, session 1, had a cost of 4, attendee is virtual?: True\n",
      "Attendee 404 for topic 1, session 1, had a cost of 4, attendee is virtual?: True\n",
      "Attendee 405 for topic 10, session 2, had a cost of 10, attendee is virtual?: True\n",
      "Attendee 407 for topic 3, session 1, had a cost of 4, attendee is virtual?: False\n",
      "Attendee 408 for topic 6, session 0, had a cost of 4, attendee is virtual?: False\n",
      "Attendee 410 for topic 8, session 1, had a cost of 4, attendee is virtual?: False\n",
      "Attendee 411 for topic 1, session 1, had a cost of 4, attendee is virtual?: True\n",
      "Attendee 412 for topic 1, session 1, had a cost of 4, attendee is virtual?: True\n",
      "Attendee 414 for topic 2, session 0, had a cost of 4, attendee is virtual?: False\n",
      "Attendee 416 for topic 9, session 0, had a cost of 10, attendee is virtual?: True\n",
      "Attendee 417 for topic 1, session 1, had a cost of 4, attendee is virtual?: True\n",
      "Attendee 419 for topic 6, session 0, had a cost of 4, attendee is virtual?: False\n",
      "Attendee 421 for topic 7, session 1, had a cost of 4, attendee is virtual?: True\n",
      "Attendee 425 for topic 3, session 1, had a cost of 4, attendee is virtual?: False\n"
     ]
    }
   ],
   "source": [
    "not_top_3 = np.where(x_sol*cost_matrix>0)\n",
    "for i,a in enumerate(not_top_3[0]):\n",
    "    print(f'Attendee {a} for topic {not_top_3[1][i]}, session {not_top_3[2][i]}, had a cost of {cost_matrix[a,not_top_3[1][i],not_top_3[2][i]]}, attendee is virtual?: {a_virt[a]}', end='\\n')"
   ]
  },
  {
   "cell_type": "code",
   "execution_count": 187,
   "metadata": {},
   "outputs": [
    {
     "data": {
      "text/plain": [
       "0"
      ]
     },
     "execution_count": 187,
     "metadata": {},
     "output_type": "execute_result"
    }
   ],
   "source": [
    "# Number of people in person that are attending a virtual event\n",
    "in_person_attending_virtual = np.array([a * s_sol for a in a_in_p]) * x_sol\n",
    "np.sum(in_person_attending_virtual)"
   ]
  },
  {
   "cell_type": "code",
   "execution_count": 157,
   "metadata": {
    "scrolled": true,
    "tags": []
   },
   "outputs": [],
   "source": [
    "# ipav = np.where(in_person_attending_virtual > 0)\n",
    "# for i,a in enumerate(ipav[0]):\n",
    "#     print(f'Attendee {a} for topic {ipav[1][i]}, session {ipav[2][i]}, is virtual: {a_virt[a]}. Session is virtual: {s_sol[ipav[1][i],ipav[2][i]]==1}', end='\\n')"
   ]
  },
  {
   "cell_type": "code",
   "execution_count": 158,
   "metadata": {},
   "outputs": [
    {
     "data": {
      "text/plain": [
       "0"
      ]
     },
     "execution_count": 158,
     "metadata": {},
     "output_type": "execute_result"
    }
   ],
   "source": [
    "# Number of virtual attending an in person event\n",
    "virtual_attending_in_person = np.array([a * 1 * (s_sol == 0) for a in a_virt]) * x_sol\n",
    "np.sum(virtual_attending_in_person)"
   ]
  },
  {
   "cell_type": "code",
   "execution_count": 134,
   "metadata": {
    "scrolled": true,
    "tags": []
   },
   "outputs": [],
   "source": [
    "# indexes_of_virtual_attending_ip = np.unique(np.where(virtual_attending_in_person > 0)[0])\n",
    "# ivap = np.where(virtual_attending_in_person > 0)\n",
    "# for i,a in enumerate(ivap[0]):\n",
    "#     print(f'Attendee {a} for topic {ivap[1][i]}, session {ivap[2][i]}, is virtual: {a_virt[a]}. Session is virtual: {s_sol[ivap[1][i],ivap[2][i]]==1}', end='\\n')"
   ]
  },
  {
   "cell_type": "markdown",
   "metadata": {},
   "source": [
    "## Evaluating the Solution"
   ]
  },
  {
   "cell_type": "markdown",
   "metadata": {},
   "source": [
    "### Did our solver find an optimal solution?"
   ]
  },
  {
   "cell_type": "code",
   "execution_count": 188,
   "metadata": {},
   "outputs": [
    {
     "data": {
      "text/plain": [
       "True"
      ]
     },
     "execution_count": 188,
     "metadata": {},
     "output_type": "execute_result"
    }
   ],
   "source": [
    "model.status == OptimizationStatus.OPTIMAL"
   ]
  },
  {
   "cell_type": "markdown",
   "metadata": {},
   "source": [
    "In this case it did, great! If we tighten the constraints this might not always be true. For example reducing the room capacities.\n",
    "\n",
    "What about the total cost:"
   ]
  },
  {
   "cell_type": "code",
   "execution_count": 189,
   "metadata": {},
   "outputs": [
    {
     "data": {
      "text/plain": [
       "1530.0"
      ]
     },
     "execution_count": 189,
     "metadata": {},
     "output_type": "execute_result"
    }
   ],
   "source": [
    "model.objective.x"
   ]
  },
  {
   "cell_type": "markdown",
   "metadata": {},
   "source": [
    "Great this means everyone gets to attend their top 3 sessions."
   ]
  },
  {
   "cell_type": "markdown",
   "metadata": {},
   "source": [
    "### How many attendees in each session?\n",
    "We want to check that there isn't significant varaince across sessions so that we avoid half empty rooms in some sessions."
   ]
  },
  {
   "cell_type": "code",
   "execution_count": 190,
   "metadata": {},
   "outputs": [
    {
     "name": "stdout",
     "output_type": "stream",
     "text": [
      "Total numbers in each session\n"
     ]
    },
    {
     "data": {
      "text/html": [
       "<div>\n",
       "<style scoped>\n",
       "    .dataframe tbody tr th:only-of-type {\n",
       "        vertical-align: middle;\n",
       "    }\n",
       "\n",
       "    .dataframe tbody tr th {\n",
       "        vertical-align: top;\n",
       "    }\n",
       "\n",
       "    .dataframe thead th {\n",
       "        text-align: right;\n",
       "    }\n",
       "</style>\n",
       "<table border=\"1\" class=\"dataframe\">\n",
       "  <thead>\n",
       "    <tr style=\"text-align: right;\">\n",
       "      <th></th>\n",
       "      <th>S1</th>\n",
       "      <th>S2</th>\n",
       "      <th>S3</th>\n",
       "    </tr>\n",
       "  </thead>\n",
       "  <tbody>\n",
       "    <tr>\n",
       "      <th>Architecting for a Sustainable Cloud Future</th>\n",
       "      <td>52</td>\n",
       "      <td>38</td>\n",
       "      <td>40</td>\n",
       "    </tr>\n",
       "    <tr>\n",
       "      <th>Build a Bot Using PowerAutomate</th>\n",
       "      <td>40</td>\n",
       "      <td>63</td>\n",
       "      <td>40</td>\n",
       "    </tr>\n",
       "    <tr>\n",
       "      <th>ESG 101</th>\n",
       "      <td>28</td>\n",
       "      <td>23</td>\n",
       "      <td>30</td>\n",
       "    </tr>\n",
       "    <tr>\n",
       "      <th>Energy Demand Nowcasting: How Machine Learning can Help Unlock ESG Enablement</th>\n",
       "      <td>23</td>\n",
       "      <td>29</td>\n",
       "      <td>28</td>\n",
       "    </tr>\n",
       "    <tr>\n",
       "      <th>Environmental Impact @ Slalom with Net Zero Cloud</th>\n",
       "      <td>16</td>\n",
       "      <td>23</td>\n",
       "      <td>36</td>\n",
       "    </tr>\n",
       "    <tr>\n",
       "      <th>Fusion Development with the Microsoft Power Platform</th>\n",
       "      <td>22</td>\n",
       "      <td>29</td>\n",
       "      <td>57</td>\n",
       "    </tr>\n",
       "    <tr>\n",
       "      <th>Low Code – Meeting User Needs While Also Being Fast and Lean</th>\n",
       "      <td>30</td>\n",
       "      <td>40</td>\n",
       "      <td>34</td>\n",
       "    </tr>\n",
       "    <tr>\n",
       "      <th>Modern Portfolio Management</th>\n",
       "      <td>40</td>\n",
       "      <td>62</td>\n",
       "      <td>40</td>\n",
       "    </tr>\n",
       "    <tr>\n",
       "      <th>Service Design: A Framework for Practical Collaboration</th>\n",
       "      <td>40</td>\n",
       "      <td>40</td>\n",
       "      <td>19</td>\n",
       "    </tr>\n",
       "    <tr>\n",
       "      <th>Shaping the Future Through Inspiration and Innovation</th>\n",
       "      <td>96</td>\n",
       "      <td>40</td>\n",
       "      <td>40</td>\n",
       "    </tr>\n",
       "    <tr>\n",
       "      <th>The Future of Work: What You Need to Know to Navigate this Brave New World</th>\n",
       "      <td>40</td>\n",
       "      <td>40</td>\n",
       "      <td>63</td>\n",
       "    </tr>\n",
       "  </tbody>\n",
       "</table>\n",
       "</div>"
      ],
      "text/plain": [
       "                                                    S1  S2  S3\n",
       "Architecting for a Sustainable Cloud Future         52  38  40\n",
       "Build a Bot Using PowerAutomate                     40  63  40\n",
       "ESG 101                                             28  23  30\n",
       "Energy Demand Nowcasting: How Machine Learning ...  23  29  28\n",
       "Environmental Impact @ Slalom with Net Zero Cloud   16  23  36\n",
       "Fusion Development with the Microsoft Power Pla...  22  29  57\n",
       "Low Code – Meeting User Needs While Also Being ...  30  40  34\n",
       "Modern Portfolio Management                         40  62  40\n",
       "Service Design: A Framework for Practical Colla...  40  40  19\n",
       "Shaping the Future Through Inspiration and Inno...  96  40  40\n",
       "The Future of Work: What You Need to Know to Na...  40  40  63"
      ]
     },
     "execution_count": 190,
     "metadata": {},
     "output_type": "execute_result"
    }
   ],
   "source": [
    "print(\"Total numbers in each session\")\n",
    "pd.DataFrame(x_sol.sum(axis=0),index=topics,columns=['S1','S2','S3'], dtype=int)"
   ]
  },
  {
   "cell_type": "code",
   "execution_count": 191,
   "metadata": {},
   "outputs": [
    {
     "name": "stdout",
     "output_type": "stream",
     "text": [
      "In person attendees\n"
     ]
    },
    {
     "data": {
      "text/html": [
       "<div>\n",
       "<style scoped>\n",
       "    .dataframe tbody tr th:only-of-type {\n",
       "        vertical-align: middle;\n",
       "    }\n",
       "\n",
       "    .dataframe tbody tr th {\n",
       "        vertical-align: top;\n",
       "    }\n",
       "\n",
       "    .dataframe thead th {\n",
       "        text-align: right;\n",
       "    }\n",
       "</style>\n",
       "<table border=\"1\" class=\"dataframe\">\n",
       "  <thead>\n",
       "    <tr style=\"text-align: right;\">\n",
       "      <th></th>\n",
       "      <th>S1</th>\n",
       "      <th>S2</th>\n",
       "      <th>S3</th>\n",
       "    </tr>\n",
       "  </thead>\n",
       "  <tbody>\n",
       "    <tr>\n",
       "      <th>Architecting for a Sustainable Cloud Future</th>\n",
       "      <td>0</td>\n",
       "      <td>38</td>\n",
       "      <td>40</td>\n",
       "    </tr>\n",
       "    <tr>\n",
       "      <th>Build a Bot Using PowerAutomate</th>\n",
       "      <td>40</td>\n",
       "      <td>0</td>\n",
       "      <td>40</td>\n",
       "    </tr>\n",
       "    <tr>\n",
       "      <th>ESG 101</th>\n",
       "      <td>28</td>\n",
       "      <td>23</td>\n",
       "      <td>30</td>\n",
       "    </tr>\n",
       "    <tr>\n",
       "      <th>Energy Demand Nowcasting: How Machine Learning can Help Unlock ESG Enablement</th>\n",
       "      <td>23</td>\n",
       "      <td>29</td>\n",
       "      <td>0</td>\n",
       "    </tr>\n",
       "    <tr>\n",
       "      <th>Environmental Impact @ Slalom with Net Zero Cloud</th>\n",
       "      <td>16</td>\n",
       "      <td>0</td>\n",
       "      <td>36</td>\n",
       "    </tr>\n",
       "    <tr>\n",
       "      <th>Fusion Development with the Microsoft Power Platform</th>\n",
       "      <td>22</td>\n",
       "      <td>29</td>\n",
       "      <td>0</td>\n",
       "    </tr>\n",
       "    <tr>\n",
       "      <th>Low Code – Meeting User Needs While Also Being Fast and Lean</th>\n",
       "      <td>30</td>\n",
       "      <td>40</td>\n",
       "      <td>34</td>\n",
       "    </tr>\n",
       "    <tr>\n",
       "      <th>Modern Portfolio Management</th>\n",
       "      <td>40</td>\n",
       "      <td>0</td>\n",
       "      <td>40</td>\n",
       "    </tr>\n",
       "    <tr>\n",
       "      <th>Service Design: A Framework for Practical Collaboration</th>\n",
       "      <td>40</td>\n",
       "      <td>40</td>\n",
       "      <td>19</td>\n",
       "    </tr>\n",
       "    <tr>\n",
       "      <th>Shaping the Future Through Inspiration and Innovation</th>\n",
       "      <td>0</td>\n",
       "      <td>40</td>\n",
       "      <td>40</td>\n",
       "    </tr>\n",
       "    <tr>\n",
       "      <th>The Future of Work: What You Need to Know to Navigate this Brave New World</th>\n",
       "      <td>40</td>\n",
       "      <td>40</td>\n",
       "      <td>0</td>\n",
       "    </tr>\n",
       "  </tbody>\n",
       "</table>\n",
       "</div>"
      ],
      "text/plain": [
       "                                                    S1  S2  S3\n",
       "Architecting for a Sustainable Cloud Future          0  38  40\n",
       "Build a Bot Using PowerAutomate                     40   0  40\n",
       "ESG 101                                             28  23  30\n",
       "Energy Demand Nowcasting: How Machine Learning ...  23  29   0\n",
       "Environmental Impact @ Slalom with Net Zero Cloud   16   0  36\n",
       "Fusion Development with the Microsoft Power Pla...  22  29   0\n",
       "Low Code – Meeting User Needs While Also Being ...  30  40  34\n",
       "Modern Portfolio Management                         40   0  40\n",
       "Service Design: A Framework for Practical Colla...  40  40  19\n",
       "Shaping the Future Through Inspiration and Inno...   0  40  40\n",
       "The Future of Work: What You Need to Know to Na...  40  40   0"
      ]
     },
     "execution_count": 191,
     "metadata": {},
     "output_type": "execute_result"
    }
   ],
   "source": [
    "print(\"In person attendees\")\n",
    "pd.DataFrame(np.array([a*x_sol[i] for i,a in enumerate(a_in_p)]).sum(axis=0),index=topics,columns=['S1','S2','S3'], dtype=int)"
   ]
  },
  {
   "cell_type": "code",
   "execution_count": 192,
   "metadata": {},
   "outputs": [
    {
     "name": "stdout",
     "output_type": "stream",
     "text": [
      "Virtual Attendees\n"
     ]
    },
    {
     "data": {
      "text/html": [
       "<div>\n",
       "<style scoped>\n",
       "    .dataframe tbody tr th:only-of-type {\n",
       "        vertical-align: middle;\n",
       "    }\n",
       "\n",
       "    .dataframe tbody tr th {\n",
       "        vertical-align: top;\n",
       "    }\n",
       "\n",
       "    .dataframe thead th {\n",
       "        text-align: right;\n",
       "    }\n",
       "</style>\n",
       "<table border=\"1\" class=\"dataframe\">\n",
       "  <thead>\n",
       "    <tr style=\"text-align: right;\">\n",
       "      <th></th>\n",
       "      <th>S1</th>\n",
       "      <th>S2</th>\n",
       "      <th>S3</th>\n",
       "    </tr>\n",
       "  </thead>\n",
       "  <tbody>\n",
       "    <tr>\n",
       "      <th>Architecting for a Sustainable Cloud Future</th>\n",
       "      <td>52</td>\n",
       "      <td>0</td>\n",
       "      <td>0</td>\n",
       "    </tr>\n",
       "    <tr>\n",
       "      <th>Build a Bot Using PowerAutomate</th>\n",
       "      <td>0</td>\n",
       "      <td>63</td>\n",
       "      <td>0</td>\n",
       "    </tr>\n",
       "    <tr>\n",
       "      <th>ESG 101</th>\n",
       "      <td>0</td>\n",
       "      <td>0</td>\n",
       "      <td>0</td>\n",
       "    </tr>\n",
       "    <tr>\n",
       "      <th>Energy Demand Nowcasting: How Machine Learning can Help Unlock ESG Enablement</th>\n",
       "      <td>0</td>\n",
       "      <td>0</td>\n",
       "      <td>28</td>\n",
       "    </tr>\n",
       "    <tr>\n",
       "      <th>Environmental Impact @ Slalom with Net Zero Cloud</th>\n",
       "      <td>0</td>\n",
       "      <td>23</td>\n",
       "      <td>0</td>\n",
       "    </tr>\n",
       "    <tr>\n",
       "      <th>Fusion Development with the Microsoft Power Platform</th>\n",
       "      <td>0</td>\n",
       "      <td>0</td>\n",
       "      <td>57</td>\n",
       "    </tr>\n",
       "    <tr>\n",
       "      <th>Low Code – Meeting User Needs While Also Being Fast and Lean</th>\n",
       "      <td>0</td>\n",
       "      <td>0</td>\n",
       "      <td>0</td>\n",
       "    </tr>\n",
       "    <tr>\n",
       "      <th>Modern Portfolio Management</th>\n",
       "      <td>0</td>\n",
       "      <td>62</td>\n",
       "      <td>0</td>\n",
       "    </tr>\n",
       "    <tr>\n",
       "      <th>Service Design: A Framework for Practical Collaboration</th>\n",
       "      <td>0</td>\n",
       "      <td>0</td>\n",
       "      <td>0</td>\n",
       "    </tr>\n",
       "    <tr>\n",
       "      <th>Shaping the Future Through Inspiration and Innovation</th>\n",
       "      <td>96</td>\n",
       "      <td>0</td>\n",
       "      <td>0</td>\n",
       "    </tr>\n",
       "    <tr>\n",
       "      <th>The Future of Work: What You Need to Know to Navigate this Brave New World</th>\n",
       "      <td>0</td>\n",
       "      <td>0</td>\n",
       "      <td>63</td>\n",
       "    </tr>\n",
       "  </tbody>\n",
       "</table>\n",
       "</div>"
      ],
      "text/plain": [
       "                                                    S1  S2  S3\n",
       "Architecting for a Sustainable Cloud Future         52   0   0\n",
       "Build a Bot Using PowerAutomate                      0  63   0\n",
       "ESG 101                                              0   0   0\n",
       "Energy Demand Nowcasting: How Machine Learning ...   0   0  28\n",
       "Environmental Impact @ Slalom with Net Zero Cloud    0  23   0\n",
       "Fusion Development with the Microsoft Power Pla...   0   0  57\n",
       "Low Code – Meeting User Needs While Also Being ...   0   0   0\n",
       "Modern Portfolio Management                          0  62   0\n",
       "Service Design: A Framework for Practical Colla...   0   0   0\n",
       "Shaping the Future Through Inspiration and Inno...  96   0   0\n",
       "The Future of Work: What You Need to Know to Na...   0   0  63"
      ]
     },
     "execution_count": 192,
     "metadata": {},
     "output_type": "execute_result"
    }
   ],
   "source": [
    "print('Virtual Attendees')\n",
    "pd.DataFrame(np.array([a*x_sol[i] for i,a in enumerate(a_virt)]).sum(axis=0),index=topics,columns=['S1','S2','S3'], dtype=int)"
   ]
  },
  {
   "cell_type": "markdown",
   "metadata": {},
   "source": [
    "## Save resulting conference schedules"
   ]
  },
  {
   "cell_type": "code",
   "execution_count": 193,
   "metadata": {},
   "outputs": [
    {
     "data": {
      "text/plain": [
       "(427, 148, 279)"
      ]
     },
     "execution_count": 193,
     "metadata": {},
     "output_type": "execute_result"
    }
   ],
   "source": [
    "len(a_virt), sum(a_virt), sum([not a for a in a_virt])"
   ]
  },
  {
   "cell_type": "code",
   "execution_count": 194,
   "metadata": {},
   "outputs": [
    {
     "data": {
      "text/html": [
       "<div>\n",
       "<style scoped>\n",
       "    .dataframe tbody tr th:only-of-type {\n",
       "        vertical-align: middle;\n",
       "    }\n",
       "\n",
       "    .dataframe tbody tr th {\n",
       "        vertical-align: top;\n",
       "    }\n",
       "\n",
       "    .dataframe thead th {\n",
       "        text-align: right;\n",
       "    }\n",
       "</style>\n",
       "<table border=\"1\" class=\"dataframe\">\n",
       "  <thead>\n",
       "    <tr style=\"text-align: right;\">\n",
       "      <th></th>\n",
       "      <th>Session 1</th>\n",
       "      <th>Session 2</th>\n",
       "      <th>Session 3</th>\n",
       "      <th>Virtual Attendee</th>\n",
       "    </tr>\n",
       "  </thead>\n",
       "  <tbody>\n",
       "    <tr>\n",
       "      <th>0</th>\n",
       "      <td>The Future of Work: What You Need to Know to N...</td>\n",
       "      <td>Architecting for a Sustainable Cloud Future</td>\n",
       "      <td>Environmental Impact @ Slalom with Net Zero Cloud</td>\n",
       "      <td>False</td>\n",
       "    </tr>\n",
       "    <tr>\n",
       "      <th>1</th>\n",
       "      <td>Architecting for a Sustainable Cloud Future</td>\n",
       "      <td>Build a Bot Using PowerAutomate</td>\n",
       "      <td>Fusion Development with the Microsoft Power Pl...</td>\n",
       "      <td>True</td>\n",
       "    </tr>\n",
       "    <tr>\n",
       "      <th>2</th>\n",
       "      <td>Architecting for a Sustainable Cloud Future</td>\n",
       "      <td>Build a Bot Using PowerAutomate</td>\n",
       "      <td>Fusion Development with the Microsoft Power Pl...</td>\n",
       "      <td>True</td>\n",
       "    </tr>\n",
       "    <tr>\n",
       "      <th>3</th>\n",
       "      <td>ESG 101</td>\n",
       "      <td>Fusion Development with the Microsoft Power Pl...</td>\n",
       "      <td>Shaping the Future Through Inspiration and Inn...</td>\n",
       "      <td>False</td>\n",
       "    </tr>\n",
       "    <tr>\n",
       "      <th>4</th>\n",
       "      <td>Modern Portfolio Management</td>\n",
       "      <td>The Future of Work: What You Need to Know to N...</td>\n",
       "      <td>Low Code – Meeting User Needs While Also Being...</td>\n",
       "      <td>False</td>\n",
       "    </tr>\n",
       "  </tbody>\n",
       "</table>\n",
       "</div>"
      ],
      "text/plain": [
       "                                           Session 1  \\\n",
       "0  The Future of Work: What You Need to Know to N...   \n",
       "1        Architecting for a Sustainable Cloud Future   \n",
       "2        Architecting for a Sustainable Cloud Future   \n",
       "3                                            ESG 101   \n",
       "4                        Modern Portfolio Management   \n",
       "\n",
       "                                           Session 2  \\\n",
       "0        Architecting for a Sustainable Cloud Future   \n",
       "1                    Build a Bot Using PowerAutomate   \n",
       "2                    Build a Bot Using PowerAutomate   \n",
       "3  Fusion Development with the Microsoft Power Pl...   \n",
       "4  The Future of Work: What You Need to Know to N...   \n",
       "\n",
       "                                           Session 3  Virtual Attendee  \n",
       "0  Environmental Impact @ Slalom with Net Zero Cloud             False  \n",
       "1  Fusion Development with the Microsoft Power Pl...              True  \n",
       "2  Fusion Development with the Microsoft Power Pl...              True  \n",
       "3  Shaping the Future Through Inspiration and Inn...             False  \n",
       "4  Low Code – Meeting User Needs While Also Being...             False  "
      ]
     },
     "execution_count": 194,
     "metadata": {},
     "output_type": "execute_result"
    }
   ],
   "source": [
    "schedule = np.argmax(x_sol,axis=1)\n",
    "schedule_text = topics[schedule]\n",
    "sched_df = pd.DataFrame(schedule_text, columns=[f'Session {i}' for i in range(1,4)], index=index)\n",
    "sched_df['Virtual Attendee'] = a_virt\n",
    "sched_df.head()"
   ]
  },
  {
   "cell_type": "code",
   "execution_count": 195,
   "metadata": {},
   "outputs": [],
   "source": [
    "sched_df.to_csv('data/conference_schedule_2022_virtual_sessions.csv',index=True)"
   ]
  }
 ],
 "metadata": {
  "kernelspec": {
   "display_name": "Python [conda env:ml]",
   "language": "python",
   "name": "conda-env-ml-py"
  },
  "language_info": {
   "codemirror_mode": {
    "name": "ipython",
    "version": 3
   },
   "file_extension": ".py",
   "mimetype": "text/x-python",
   "name": "python",
   "nbconvert_exporter": "python",
   "pygments_lexer": "ipython3",
   "version": "3.10.9"
  }
 },
 "nbformat": 4,
 "nbformat_minor": 4
}
