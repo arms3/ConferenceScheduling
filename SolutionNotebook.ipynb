{
 "cells": [
  {
   "cell_type": "markdown",
   "metadata": {},
   "source": [
    "# Conference scheduling problem"
   ]
  },
  {
   "cell_type": "code",
   "execution_count": 1,
   "metadata": {},
   "outputs": [],
   "source": [
    "import pandas as pd\n",
    "import numpy as np\n",
    "from ortools.linear_solver import pywraplp"
   ]
  },
  {
   "cell_type": "markdown",
   "metadata": {},
   "source": [
    "## Problem Statement\n",
    "\n",
    "Recently Slalom Seattle was planning it's annual Innovation Symposium, and I was on the planning committee.\n",
    "\n",
    "The planning team wanted to assign each individual to a schedule. Attendees had been asked to rank their preference for attending each topic. The problem was a large number of schedules would have to manually be created; over 600 attendees, needed to be assigned to 7 different topics across 3 sessions. The original plan was to whiteboard it and manually create schedules and assign people to schedules, an excruciating process that may have to be rerun as new responses or constraints came in. It also seemed difficult to ensure the best solution: how do you even pick the best subset of possible schedules?\n",
    "\n",
    "There were also some constraints about the capacity of available rooms, more popular sessions could be put in a larger room, and we wanted to avoid having rooms half empty in one session and then bursting at the seams in a later session."
   ]
  },
  {
   "cell_type": "markdown",
   "metadata": {},
   "source": [
    "## Data Prep"
   ]
  },
  {
   "cell_type": "markdown",
   "metadata": {},
   "source": [
    "### Let's have a look at the survey data"
   ]
  },
  {
   "cell_type": "code",
   "execution_count": 2,
   "metadata": {},
   "outputs": [
    {
     "data": {
      "text/html": [
       "<div>\n",
       "<style scoped>\n",
       "    .dataframe tbody tr th:only-of-type {\n",
       "        vertical-align: middle;\n",
       "    }\n",
       "\n",
       "    .dataframe tbody tr th {\n",
       "        vertical-align: top;\n",
       "    }\n",
       "\n",
       "    .dataframe thead th {\n",
       "        text-align: right;\n",
       "    }\n",
       "</style>\n",
       "<table border=\"1\" class=\"dataframe\">\n",
       "  <thead>\n",
       "    <tr style=\"text-align: right;\">\n",
       "      <th></th>\n",
       "      <th>Choice 1</th>\n",
       "      <th>Choice 2</th>\n",
       "      <th>Choice 3</th>\n",
       "      <th>Choice 4</th>\n",
       "      <th>Choice 5</th>\n",
       "      <th>Choice 6</th>\n",
       "      <th>Choice 7</th>\n",
       "    </tr>\n",
       "  </thead>\n",
       "  <tbody>\n",
       "    <tr>\n",
       "      <td>0</td>\n",
       "      <td>[Design Thinking] + [Lean] + [Agile]</td>\n",
       "      <td>Modern Culture of Data</td>\n",
       "      <td>Intro to AI and ML</td>\n",
       "      <td>Internet of Things</td>\n",
       "      <td>Design Thinking for Experience &amp; Service Design</td>\n",
       "      <td>Cloud Enablement 201</td>\n",
       "      <td>Robotic Process Automation (RPA)</td>\n",
       "    </tr>\n",
       "    <tr>\n",
       "      <td>1</td>\n",
       "      <td>[Design Thinking] + [Lean] + [Agile]</td>\n",
       "      <td>Design Thinking for Experience &amp; Service Design</td>\n",
       "      <td>Cloud Enablement 201</td>\n",
       "      <td>Modern Culture of Data</td>\n",
       "      <td>Internet of Things</td>\n",
       "      <td>Intro to AI and ML</td>\n",
       "      <td>Robotic Process Automation (RPA)</td>\n",
       "    </tr>\n",
       "    <tr>\n",
       "      <td>2</td>\n",
       "      <td>Robotic Process Automation (RPA)</td>\n",
       "      <td>Design Thinking for Experience &amp; Service Design</td>\n",
       "      <td>Intro to AI and ML</td>\n",
       "      <td>Internet of Things</td>\n",
       "      <td>Modern Culture of Data</td>\n",
       "      <td>Cloud Enablement 201</td>\n",
       "      <td>[Design Thinking] + [Lean] + [Agile]</td>\n",
       "    </tr>\n",
       "    <tr>\n",
       "      <td>3</td>\n",
       "      <td>Design Thinking for Experience &amp; Service Design</td>\n",
       "      <td>[Design Thinking] + [Lean] + [Agile]</td>\n",
       "      <td>Intro to AI and ML</td>\n",
       "      <td>Modern Culture of Data</td>\n",
       "      <td>Cloud Enablement 201</td>\n",
       "      <td>Robotic Process Automation (RPA)</td>\n",
       "      <td>Internet of Things</td>\n",
       "    </tr>\n",
       "    <tr>\n",
       "      <td>4</td>\n",
       "      <td>Cloud Enablement 201</td>\n",
       "      <td>Intro to AI and ML</td>\n",
       "      <td>Internet of Things</td>\n",
       "      <td>Modern Culture of Data</td>\n",
       "      <td>[Design Thinking] + [Lean] + [Agile]</td>\n",
       "      <td>Design Thinking for Experience &amp; Service Design</td>\n",
       "      <td>Robotic Process Automation (RPA)</td>\n",
       "    </tr>\n",
       "  </tbody>\n",
       "</table>\n",
       "</div>"
      ],
      "text/plain": [
       "                                          Choice 1  \\\n",
       "0             [Design Thinking] + [Lean] + [Agile]   \n",
       "1             [Design Thinking] + [Lean] + [Agile]   \n",
       "2                 Robotic Process Automation (RPA)   \n",
       "3  Design Thinking for Experience & Service Design   \n",
       "4                            Cloud Enablement 201    \n",
       "\n",
       "                                          Choice 2               Choice 3  \\\n",
       "0                          Modern Culture of Data      Intro to AI and ML   \n",
       "1  Design Thinking for Experience & Service Design  Cloud Enablement 201    \n",
       "2  Design Thinking for Experience & Service Design     Intro to AI and ML   \n",
       "3             [Design Thinking] + [Lean] + [Agile]     Intro to AI and ML   \n",
       "4                               Intro to AI and ML     Internet of Things   \n",
       "\n",
       "                  Choice 4                                         Choice 5  \\\n",
       "0       Internet of Things  Design Thinking for Experience & Service Design   \n",
       "1  Modern Culture of Data                                Internet of Things   \n",
       "2       Internet of Things                          Modern Culture of Data    \n",
       "3  Modern Culture of Data                             Cloud Enablement 201    \n",
       "4  Modern Culture of Data              [Design Thinking] + [Lean] + [Agile]   \n",
       "\n",
       "                                          Choice 6  \\\n",
       "0                            Cloud Enablement 201    \n",
       "1                               Intro to AI and ML   \n",
       "2                            Cloud Enablement 201    \n",
       "3                 Robotic Process Automation (RPA)   \n",
       "4  Design Thinking for Experience & Service Design   \n",
       "\n",
       "                               Choice 7  \n",
       "0      Robotic Process Automation (RPA)  \n",
       "1      Robotic Process Automation (RPA)  \n",
       "2  [Design Thinking] + [Lean] + [Agile]  \n",
       "3                    Internet of Things  \n",
       "4      Robotic Process Automation (RPA)  "
      ]
     },
     "execution_count": 2,
     "metadata": {},
     "output_type": "execute_result"
    }
   ],
   "source": [
    "# Read data\n",
    "file='data/selections.csv'\n",
    "df = pd.read_csv(file)\n",
    "df.head(5)"
   ]
  },
  {
   "cell_type": "markdown",
   "metadata": {},
   "source": [
    "Each row represents an attendee, and the columns are their ranked preference for each topic. Choice 1 was their highest preference and Choice 7 was their lowest."
   ]
  },
  {
   "cell_type": "code",
   "execution_count": 3,
   "metadata": {},
   "outputs": [
    {
     "data": {
      "text/html": [
       "<div>\n",
       "<style scoped>\n",
       "    .dataframe tbody tr th:only-of-type {\n",
       "        vertical-align: middle;\n",
       "    }\n",
       "\n",
       "    .dataframe tbody tr th {\n",
       "        vertical-align: top;\n",
       "    }\n",
       "\n",
       "    .dataframe thead th {\n",
       "        text-align: right;\n",
       "    }\n",
       "</style>\n",
       "<table border=\"1\" class=\"dataframe\">\n",
       "  <thead>\n",
       "    <tr style=\"text-align: right;\">\n",
       "      <th></th>\n",
       "      <th>Choice 1</th>\n",
       "      <th>Choice 2</th>\n",
       "      <th>Choice 3</th>\n",
       "      <th>Choice 4</th>\n",
       "      <th>Choice 5</th>\n",
       "      <th>Choice 6</th>\n",
       "      <th>Choice 7</th>\n",
       "    </tr>\n",
       "  </thead>\n",
       "  <tbody>\n",
       "    <tr>\n",
       "      <td>count</td>\n",
       "      <td>405</td>\n",
       "      <td>404</td>\n",
       "      <td>404</td>\n",
       "      <td>397</td>\n",
       "      <td>396</td>\n",
       "      <td>396</td>\n",
       "      <td>396</td>\n",
       "    </tr>\n",
       "    <tr>\n",
       "      <td>unique</td>\n",
       "      <td>7</td>\n",
       "      <td>7</td>\n",
       "      <td>7</td>\n",
       "      <td>7</td>\n",
       "      <td>7</td>\n",
       "      <td>7</td>\n",
       "      <td>7</td>\n",
       "    </tr>\n",
       "    <tr>\n",
       "      <td>top</td>\n",
       "      <td>[Design Thinking] + [Lean] + [Agile]</td>\n",
       "      <td>Modern Culture of Data</td>\n",
       "      <td>Design Thinking for Experience &amp; Service Design</td>\n",
       "      <td>Cloud Enablement 201</td>\n",
       "      <td>Internet of Things</td>\n",
       "      <td>Intro to AI and ML</td>\n",
       "      <td>Robotic Process Automation (RPA)</td>\n",
       "    </tr>\n",
       "    <tr>\n",
       "      <td>freq</td>\n",
       "      <td>84</td>\n",
       "      <td>70</td>\n",
       "      <td>68</td>\n",
       "      <td>68</td>\n",
       "      <td>66</td>\n",
       "      <td>72</td>\n",
       "      <td>86</td>\n",
       "    </tr>\n",
       "  </tbody>\n",
       "</table>\n",
       "</div>"
      ],
      "text/plain": [
       "                                    Choice 1                 Choice 2  \\\n",
       "count                                    405                      404   \n",
       "unique                                     7                        7   \n",
       "top     [Design Thinking] + [Lean] + [Agile]  Modern Culture of Data    \n",
       "freq                                      84                       70   \n",
       "\n",
       "                                               Choice 3  \\\n",
       "count                                               404   \n",
       "unique                                                7   \n",
       "top     Design Thinking for Experience & Service Design   \n",
       "freq                                                 68   \n",
       "\n",
       "                     Choice 4            Choice 5            Choice 6  \\\n",
       "count                     397                 396                 396   \n",
       "unique                      7                   7                   7   \n",
       "top     Cloud Enablement 201   Internet of Things  Intro to AI and ML   \n",
       "freq                       68                  66                  72   \n",
       "\n",
       "                                Choice 7  \n",
       "count                                396  \n",
       "unique                                 7  \n",
       "top     Robotic Process Automation (RPA)  \n",
       "freq                                  86  "
      ]
     },
     "execution_count": 3,
     "metadata": {},
     "output_type": "execute_result"
    }
   ],
   "source": [
    "df.describe()"
   ]
  },
  {
   "cell_type": "markdown",
   "metadata": {},
   "source": [
    "Looks like there are a number of missing values where someone either hasn't provided a ranking (but they've confirmed they're attending) or they have only provided a top 1,2,3... We'll have to handle all of these cases."
   ]
  },
  {
   "cell_type": "code",
   "execution_count": 4,
   "metadata": {},
   "outputs": [
    {
     "name": "stdout",
     "output_type": "stream",
     "text": [
      "Total number of responses: 578\n"
     ]
    }
   ],
   "source": [
    "# Get total number of respondants\n",
    "N_total = len(df)\n",
    "print(f'Total number of responses: {N_total}')\n",
    "\n",
    "# Create a dictionary of the topics for later use\n",
    "topics = np.unique(df.dropna().values)\n",
    "topic_map = dict(zip(topics,range(len(topics))))"
   ]
  },
  {
   "cell_type": "markdown",
   "metadata": {},
   "source": [
    "### Convert the data into a convenient format"
   ]
  },
  {
   "cell_type": "markdown",
   "metadata": {},
   "source": [
    "The data format isn't ideal; we'd like to have topics as the columns and rankings as integer values in the table.\n",
    "\n",
    "Let's convert this into a more convenient shape."
   ]
  },
  {
   "cell_type": "code",
   "execution_count": 5,
   "metadata": {},
   "outputs": [],
   "source": [
    "# Convert to ranked format\n",
    "df = df.reset_index().melt(id_vars='index').dropna().pivot(columns='value',index='index', values='variable') # Index = the id of a particular response\n",
    "df = df.reindex(pd.RangeIndex(0,N_total)) # Reindex becuase the previous step dropped all the rows where respondant didn't provide any preferences at all"
   ]
  },
  {
   "cell_type": "code",
   "execution_count": 6,
   "metadata": {},
   "outputs": [
    {
     "data": {
      "text/plain": [
       "(2, nan)"
      ]
     },
     "execution_count": 6,
     "metadata": {},
     "output_type": "execute_result"
    }
   ],
   "source": [
    "# Convert choice rankings to integers\n",
    "def choice_to_int(choice):\n",
    "    try:\n",
    "        return int(choice.split(' ')[-1])\n",
    "    except:\n",
    "        return np.nan\n",
    "\n",
    "choice_to_int('Choice 2'), choice_to_int(np.nan)"
   ]
  },
  {
   "cell_type": "code",
   "execution_count": 7,
   "metadata": {},
   "outputs": [],
   "source": [
    "# Use applymap to clean every choice\n",
    "df = df.applymap(choice_to_int)"
   ]
  },
  {
   "cell_type": "markdown",
   "metadata": {},
   "source": [
    "We also want to fill missing preferences; we'll assume an individual's preference for topics not ranked is uniform but lower than those they have ranked."
   ]
  },
  {
   "cell_type": "code",
   "execution_count": 8,
   "metadata": {},
   "outputs": [
    {
     "data": {
      "text/html": [
       "<div>\n",
       "<style scoped>\n",
       "    .dataframe tbody tr th:only-of-type {\n",
       "        vertical-align: middle;\n",
       "    }\n",
       "\n",
       "    .dataframe tbody tr th {\n",
       "        vertical-align: top;\n",
       "    }\n",
       "\n",
       "    .dataframe thead th {\n",
       "        text-align: right;\n",
       "    }\n",
       "</style>\n",
       "<table border=\"1\" class=\"dataframe\">\n",
       "  <thead>\n",
       "    <tr style=\"text-align: right;\">\n",
       "      <th>value</th>\n",
       "      <th>Cloud Enablement 201</th>\n",
       "      <th>Design Thinking for Experience &amp; Service Design</th>\n",
       "      <th>Internet of Things</th>\n",
       "      <th>Intro to AI and ML</th>\n",
       "      <th>Modern Culture of Data</th>\n",
       "      <th>Robotic Process Automation (RPA)</th>\n",
       "      <th>[Design Thinking] + [Lean] + [Agile]</th>\n",
       "    </tr>\n",
       "  </thead>\n",
       "  <tbody>\n",
       "    <tr>\n",
       "      <td>410</td>\n",
       "      <td>1.0</td>\n",
       "      <td>1.0</td>\n",
       "      <td>1.0</td>\n",
       "      <td>1.0</td>\n",
       "      <td>1.0</td>\n",
       "      <td>1.0</td>\n",
       "      <td>1.0</td>\n",
       "    </tr>\n",
       "    <tr>\n",
       "      <td>50</td>\n",
       "      <td>5.0</td>\n",
       "      <td>2.0</td>\n",
       "      <td>7.0</td>\n",
       "      <td>6.0</td>\n",
       "      <td>3.0</td>\n",
       "      <td>4.0</td>\n",
       "      <td>1.0</td>\n",
       "    </tr>\n",
       "    <tr>\n",
       "      <td>146</td>\n",
       "      <td>1.0</td>\n",
       "      <td>3.0</td>\n",
       "      <td>7.0</td>\n",
       "      <td>4.0</td>\n",
       "      <td>2.0</td>\n",
       "      <td>5.0</td>\n",
       "      <td>6.0</td>\n",
       "    </tr>\n",
       "    <tr>\n",
       "      <td>315</td>\n",
       "      <td>7.0</td>\n",
       "      <td>2.0</td>\n",
       "      <td>3.0</td>\n",
       "      <td>6.0</td>\n",
       "      <td>4.0</td>\n",
       "      <td>5.0</td>\n",
       "      <td>1.0</td>\n",
       "    </tr>\n",
       "    <tr>\n",
       "      <td>576</td>\n",
       "      <td>6.0</td>\n",
       "      <td>3.0</td>\n",
       "      <td>4.0</td>\n",
       "      <td>5.0</td>\n",
       "      <td>2.0</td>\n",
       "      <td>7.0</td>\n",
       "      <td>1.0</td>\n",
       "    </tr>\n",
       "  </tbody>\n",
       "</table>\n",
       "</div>"
      ],
      "text/plain": [
       "value  Cloud Enablement 201   Design Thinking for Experience & Service Design  \\\n",
       "410                      1.0                                              1.0   \n",
       "50                       5.0                                              2.0   \n",
       "146                      1.0                                              3.0   \n",
       "315                      7.0                                              2.0   \n",
       "576                      6.0                                              3.0   \n",
       "\n",
       "value  Internet of Things  Intro to AI and ML  Modern Culture of Data   \\\n",
       "410                   1.0                 1.0                      1.0   \n",
       "50                    7.0                 6.0                      3.0   \n",
       "146                   7.0                 4.0                      2.0   \n",
       "315                   3.0                 6.0                      4.0   \n",
       "576                   4.0                 5.0                      2.0   \n",
       "\n",
       "value  Robotic Process Automation (RPA)  [Design Thinking] + [Lean] + [Agile]  \n",
       "410                                 1.0                                   1.0  \n",
       "50                                  4.0                                   1.0  \n",
       "146                                 5.0                                   6.0  \n",
       "315                                 5.0                                   1.0  \n",
       "576                                 7.0                                   1.0  "
      ]
     },
     "execution_count": 8,
     "metadata": {},
     "output_type": "execute_result"
    }
   ],
   "source": [
    "# Add one to the max choice for each row\n",
    "unranked_preference = df.max(axis=1).fillna(0) +1\n",
    "\n",
    "# The column by column replace the missing values with the max per row\n",
    "for col in df.columns:\n",
    "    df[col] = df[col].fillna(value=unranked_preference)\n",
    "df.sample(5, random_state=1990)"
   ]
  },
  {
   "cell_type": "markdown",
   "metadata": {},
   "source": [
    "You can see the response at index `410` didn't provide any choice so every topic has a rank 1."
   ]
  },
  {
   "cell_type": "markdown",
   "metadata": {},
   "source": [
    "## Solve Using Linear Programming\n",
    "\n",
    "We can restate this as a linear programming problem where we have various constraints on the number of attendees in each session, and the number of sessions and topics a particular person can attend. "
   ]
  },
  {
   "cell_type": "markdown",
   "metadata": {},
   "source": [
    "### Assign preference cost\n",
    "We want to assign costs for assigning a particular person to a session, that way we can compute a total of cost of a configuration, and optimize. We can say the cost is zero for assigning them to one of their top 3 sessions, with an increasing cost if we assign them to a lower preference session.\n",
    "\n",
    "Depending on the problem and constraints we might choose different values here. For example if we want to avoid assigning any non-top 3 choices at all we could use a higher value for Choice 4 and on."
   ]
  },
  {
   "cell_type": "code",
   "execution_count": 9,
   "metadata": {},
   "outputs": [
    {
     "name": "stdout",
     "output_type": "stream",
     "text": [
      "Costs by choice: {1: 0, 2: 0, 3: 0, 4: 2, 5: 3, 6: 4, 7: 5}\n"
     ]
    },
    {
     "data": {
      "text/html": [
       "<div>\n",
       "<style scoped>\n",
       "    .dataframe tbody tr th:only-of-type {\n",
       "        vertical-align: middle;\n",
       "    }\n",
       "\n",
       "    .dataframe tbody tr th {\n",
       "        vertical-align: top;\n",
       "    }\n",
       "\n",
       "    .dataframe thead th {\n",
       "        text-align: right;\n",
       "    }\n",
       "</style>\n",
       "<table border=\"1\" class=\"dataframe\">\n",
       "  <thead>\n",
       "    <tr style=\"text-align: right;\">\n",
       "      <th>value</th>\n",
       "      <th>Cloud Enablement 201</th>\n",
       "      <th>Design Thinking for Experience &amp; Service Design</th>\n",
       "      <th>Internet of Things</th>\n",
       "      <th>Intro to AI and ML</th>\n",
       "      <th>Modern Culture of Data</th>\n",
       "      <th>Robotic Process Automation (RPA)</th>\n",
       "      <th>[Design Thinking] + [Lean] + [Agile]</th>\n",
       "    </tr>\n",
       "  </thead>\n",
       "  <tbody>\n",
       "    <tr>\n",
       "      <td>410</td>\n",
       "      <td>0</td>\n",
       "      <td>0</td>\n",
       "      <td>0</td>\n",
       "      <td>0</td>\n",
       "      <td>0</td>\n",
       "      <td>0</td>\n",
       "      <td>0</td>\n",
       "    </tr>\n",
       "    <tr>\n",
       "      <td>50</td>\n",
       "      <td>3</td>\n",
       "      <td>0</td>\n",
       "      <td>5</td>\n",
       "      <td>4</td>\n",
       "      <td>0</td>\n",
       "      <td>2</td>\n",
       "      <td>0</td>\n",
       "    </tr>\n",
       "    <tr>\n",
       "      <td>146</td>\n",
       "      <td>0</td>\n",
       "      <td>0</td>\n",
       "      <td>5</td>\n",
       "      <td>2</td>\n",
       "      <td>0</td>\n",
       "      <td>3</td>\n",
       "      <td>4</td>\n",
       "    </tr>\n",
       "    <tr>\n",
       "      <td>315</td>\n",
       "      <td>5</td>\n",
       "      <td>0</td>\n",
       "      <td>0</td>\n",
       "      <td>4</td>\n",
       "      <td>2</td>\n",
       "      <td>3</td>\n",
       "      <td>0</td>\n",
       "    </tr>\n",
       "    <tr>\n",
       "      <td>576</td>\n",
       "      <td>4</td>\n",
       "      <td>0</td>\n",
       "      <td>2</td>\n",
       "      <td>3</td>\n",
       "      <td>0</td>\n",
       "      <td>5</td>\n",
       "      <td>0</td>\n",
       "    </tr>\n",
       "  </tbody>\n",
       "</table>\n",
       "</div>"
      ],
      "text/plain": [
       "value  Cloud Enablement 201   Design Thinking for Experience & Service Design  \\\n",
       "410                        0                                                0   \n",
       "50                         3                                                0   \n",
       "146                        0                                                0   \n",
       "315                        5                                                0   \n",
       "576                        4                                                0   \n",
       "\n",
       "value  Internet of Things  Intro to AI and ML  Modern Culture of Data   \\\n",
       "410                     0                   0                        0   \n",
       "50                      5                   4                        0   \n",
       "146                     5                   2                        0   \n",
       "315                     0                   4                        2   \n",
       "576                     2                   3                        0   \n",
       "\n",
       "value  Robotic Process Automation (RPA)  [Design Thinking] + [Lean] + [Agile]  \n",
       "410                                   0                                     0  \n",
       "50                                    2                                     0  \n",
       "146                                   3                                     4  \n",
       "315                                   3                                     0  \n",
       "576                                   5                                     0  "
      ]
     },
     "execution_count": 9,
     "metadata": {},
     "output_type": "execute_result"
    }
   ],
   "source": [
    "cost_array = [0,0,0,2,3,4,5]\n",
    "cost_remap = {i:cost_array[i-1] for i in range(1,len(cost_array)+1)}\n",
    "print(f'Costs by choice: {cost_remap}')\n",
    "\n",
    "# Remap values in dataframe\n",
    "df = df.replace(cost_remap).astype(np.int8) # apply our map, and convert to int\n",
    "df.sample(5, random_state=1990)"
   ]
  },
  {
   "cell_type": "markdown",
   "metadata": {},
   "source": [
    "The response at index `410` which didn't provide any preferences has a zero cost; it doesn't matter which session they are assigned to. "
   ]
  },
  {
   "cell_type": "markdown",
   "metadata": {},
   "source": [
    "### Convert to a 3D cost matrix\n",
    "We need to assign a cost for allocating each attendee to a topic in each session. There are three sessions and the cost should be the same for a particular attendee to attend a topic regardless of the order they attend. So we need to transform our 2D array of costs into a 3D matrix."
   ]
  },
  {
   "cell_type": "code",
   "execution_count": 10,
   "metadata": {},
   "outputs": [
    {
     "name": "stdout",
     "output_type": "stream",
     "text": [
      "First dataframe row:\n",
      "value\n",
      "Cloud Enablement 201                               4\n",
      "Design Thinking for Experience & Service Design    3\n",
      "Internet of Things                                 2\n",
      "Intro to AI and ML                                 0\n",
      "Modern Culture of Data                             0\n",
      "Robotic Process Automation (RPA)                   5\n",
      "[Design Thinking] + [Lean] + [Agile]               0\n",
      "Name: 0, dtype: int8\n",
      "\n",
      "Corresponding item from cost array:\n",
      "[[4 4 4]\n",
      " [3 3 3]\n",
      " [2 2 2]\n",
      " [0 0 0]\n",
      " [0 0 0]\n",
      " [5 5 5]\n",
      " [0 0 0]]\n",
      "\n",
      "Shape of full array: (578, 7, 3)\n"
     ]
    }
   ],
   "source": [
    "cost_matrix = np.dot(np.expand_dims(df.values,-1), np.array([[1,1,1]]))\n",
    "print(f'First dataframe row:\\n{df.iloc[0]}', f'Corresponding item from cost array:\\n{cost_matrix[0]}', f'Shape of full array: {cost_matrix.shape}', sep='\\n\\n')"
   ]
  },
  {
   "cell_type": "markdown",
   "metadata": {},
   "source": [
    "The resulting array has a shape (`Number of respondants`, `Number of Topics`, `Number of Sessions`) = (`578`,`7`,`3`). So we have 12,138‬ constraints to solve... that's a bit more than [Excel's Solver package](https://www.excel-easy.com/data-analysis/solver.html) limit of 200."
   ]
  },
  {
   "cell_type": "markdown",
   "metadata": {},
   "source": [
    "### Mixed Integer Programming from Google's Operations Reaserch package to the rescue\n",
    "\n",
    "Google provides a fast and open source library for solving various combinatorial optimization problems: [Google OR tools](https://developers.google.com/optimization/)([GitHub](https://github.com/google/or-tools)). There are a few ways we could solve this but we'll use the [Mixed Integer Programming (MIP) package](https://developers.google.com/optimization/assignment/assignment_mip)."
   ]
  },
  {
   "cell_type": "markdown",
   "metadata": {},
   "source": [
    "First we need to provide a room capacity, we can adjust these numbers iteratively to best fit sessions into rooms. The iteration process went as follows: assign room capacities run solver, evaluate variance in attendance across sessions and adjust session capacities accordingly."
   ]
  },
  {
   "cell_type": "code",
   "execution_count": 11,
   "metadata": {},
   "outputs": [
    {
     "data": {
      "text/plain": [
       "[('Cloud Enablement 201 ', 85),\n",
       " ('Design Thinking for Experience & Service Design', 85),\n",
       " ('Internet of Things', 85),\n",
       " ('Intro to AI and ML', 85),\n",
       " ('Modern Culture of Data ', 90),\n",
       " ('Robotic Process Automation (RPA)', 80),\n",
       " ('[Design Thinking] + [Lean] + [Agile]', 75)]"
      ]
     },
     "execution_count": 11,
     "metadata": {},
     "output_type": "execute_result"
    }
   ],
   "source": [
    "# Set max capacity per room\n",
    "topic_capacities = [85,85,85,85,90,80,75] # 578 people and 7 topics = we need an average of 82 people (578/7) in each session\n",
    "list(zip(topics,topic_capacities))"
   ]
  },
  {
   "cell_type": "markdown",
   "metadata": {},
   "source": [
    "### Create a model and define contraints"
   ]
  },
  {
   "cell_type": "code",
   "execution_count": 12,
   "metadata": {},
   "outputs": [],
   "source": [
    "## Create solver model\n",
    "solver = pywraplp.Solver('SolveAssignmentProblemMIP',\n",
    "                            pywraplp.Solver.CBC_MIXED_INTEGER_PROGRAMMING)\n",
    "\n",
    "## Create assignment array\n",
    "# A boolean (True/False) value for each possible attendee, topic, session combination\n",
    "# We'll store these in a Numpy array of object datatype for easy indexing\n",
    "# By summing across dimesions of the array we can view and enforce constraints\n",
    "# In Python True is evaluated as 1 in a summation and False is evaluated as 0\n",
    "x = np.zeros((N_total,7,3), dtype=object)\n",
    "for attendee in range(N_total):\n",
    "    for topic in range(7):\n",
    "        for session in range(3):\n",
    "            x[attendee, topic, session] = solver.BoolVar(f'x[{attendee}, {topic}, {session}]')\n",
    "\n",
    "## Add constraints to the model\n",
    "# Each attendee attends exactly one topic per session\n",
    "# Therefore the sum across topics for each attendee, session is 1\n",
    "for a in range(N_total):\n",
    "    for s in range(3):\n",
    "        solver.Add(solver.Sum(x[a,t,s] for t in range(7)) == 1)\n",
    "\n",
    "# Each attendee attends each topic no more than 1 time\n",
    "# For each attendee, topic the sum can be 1 or 0\n",
    "for a in range(N_total):\n",
    "    for t in range(7):\n",
    "        solver.Add(solver.Sum(x[a,t,s] for s in range(3)) <= 1)  \n",
    "\n",
    "# Max people per session\n",
    "# Total count of attendees for each session to be less than capacities defined\n",
    "for s in range(3):\n",
    "    for t in range(7):\n",
    "        solver.Add(solver.Sum(x[a,t,s] for a in range(N_total)) <= topic_capacities[t])\n",
    "    \n",
    "solver.Minimize(solver.Sum([cost_matrix[a,t,s] * x[a,t,s] for a in range(N_total) for t in range(7) for s in range(3)]))"
   ]
  },
  {
   "cell_type": "code",
   "execution_count": 13,
   "metadata": {},
   "outputs": [],
   "source": [
    "# Run solver\n",
    "sol = solver.Solve()"
   ]
  },
  {
   "cell_type": "code",
   "execution_count": 14,
   "metadata": {},
   "outputs": [],
   "source": [
    "# Return resulting solution to a new array\n",
    "x_sol = np.full_like(x, 0, dtype=int)\n",
    "for a in range(N_total):\n",
    "    for t in range(7):\n",
    "        for s in range(3):\n",
    "            x_sol[a,t,s] = x[a,t,s].solution_value()"
   ]
  },
  {
   "cell_type": "markdown",
   "metadata": {},
   "source": [
    "## Evaluating the Solution"
   ]
  },
  {
   "cell_type": "markdown",
   "metadata": {},
   "source": [
    "### Did our solver find an optimal solution?"
   ]
  },
  {
   "cell_type": "code",
   "execution_count": 15,
   "metadata": {},
   "outputs": [
    {
     "data": {
      "text/plain": [
       "True"
      ]
     },
     "execution_count": 15,
     "metadata": {},
     "output_type": "execute_result"
    }
   ],
   "source": [
    "sol == solver.OPTIMAL"
   ]
  },
  {
   "cell_type": "markdown",
   "metadata": {},
   "source": [
    "In this case it did, great! If we tighten the constraints this might not always be true. For example reducing the room capacities.\n",
    "\n",
    "What about the total cost:"
   ]
  },
  {
   "cell_type": "code",
   "execution_count": 16,
   "metadata": {},
   "outputs": [
    {
     "data": {
      "text/plain": [
       "0.0"
      ]
     },
     "execution_count": 16,
     "metadata": {},
     "output_type": "execute_result"
    }
   ],
   "source": [
    "solver.Objective().Value()"
   ]
  },
  {
   "cell_type": "markdown",
   "metadata": {},
   "source": [
    "Great this means everyone gets to attend their top 3 sessions."
   ]
  },
  {
   "cell_type": "markdown",
   "metadata": {},
   "source": [
    "### How many attendees in each session?\n",
    "We want to check that there isn't significant varaince across sessions so that we avoid half empty rooms in some sessions."
   ]
  },
  {
   "cell_type": "code",
   "execution_count": 17,
   "metadata": {},
   "outputs": [
    {
     "name": "stdout",
     "output_type": "stream",
     "text": [
      "Total numbers in each session\n"
     ]
    },
    {
     "data": {
      "text/html": [
       "<div>\n",
       "<style scoped>\n",
       "    .dataframe tbody tr th:only-of-type {\n",
       "        vertical-align: middle;\n",
       "    }\n",
       "\n",
       "    .dataframe tbody tr th {\n",
       "        vertical-align: top;\n",
       "    }\n",
       "\n",
       "    .dataframe thead th {\n",
       "        text-align: right;\n",
       "    }\n",
       "</style>\n",
       "<table border=\"1\" class=\"dataframe\">\n",
       "  <thead>\n",
       "    <tr style=\"text-align: right;\">\n",
       "      <th></th>\n",
       "      <th>S1</th>\n",
       "      <th>S2</th>\n",
       "      <th>S3</th>\n",
       "    </tr>\n",
       "  </thead>\n",
       "  <tbody>\n",
       "    <tr>\n",
       "      <td>Cloud Enablement 201</td>\n",
       "      <td>85</td>\n",
       "      <td>82</td>\n",
       "      <td>85</td>\n",
       "    </tr>\n",
       "    <tr>\n",
       "      <td>Design Thinking for Experience &amp; Service Design</td>\n",
       "      <td>82</td>\n",
       "      <td>85</td>\n",
       "      <td>85</td>\n",
       "    </tr>\n",
       "    <tr>\n",
       "      <td>Internet of Things</td>\n",
       "      <td>85</td>\n",
       "      <td>84</td>\n",
       "      <td>78</td>\n",
       "    </tr>\n",
       "    <tr>\n",
       "      <td>Intro to AI and ML</td>\n",
       "      <td>85</td>\n",
       "      <td>85</td>\n",
       "      <td>85</td>\n",
       "    </tr>\n",
       "    <tr>\n",
       "      <td>Modern Culture of Data</td>\n",
       "      <td>90</td>\n",
       "      <td>90</td>\n",
       "      <td>90</td>\n",
       "    </tr>\n",
       "    <tr>\n",
       "      <td>Robotic Process Automation (RPA)</td>\n",
       "      <td>76</td>\n",
       "      <td>77</td>\n",
       "      <td>80</td>\n",
       "    </tr>\n",
       "    <tr>\n",
       "      <td>[Design Thinking] + [Lean] + [Agile]</td>\n",
       "      <td>75</td>\n",
       "      <td>75</td>\n",
       "      <td>75</td>\n",
       "    </tr>\n",
       "  </tbody>\n",
       "</table>\n",
       "</div>"
      ],
      "text/plain": [
       "                                                 S1  S2  S3\n",
       "Cloud Enablement 201                             85  82  85\n",
       "Design Thinking for Experience & Service Design  82  85  85\n",
       "Internet of Things                               85  84  78\n",
       "Intro to AI and ML                               85  85  85\n",
       "Modern Culture of Data                           90  90  90\n",
       "Robotic Process Automation (RPA)                 76  77  80\n",
       "[Design Thinking] + [Lean] + [Agile]             75  75  75"
      ]
     },
     "execution_count": 17,
     "metadata": {},
     "output_type": "execute_result"
    }
   ],
   "source": [
    "print(\"Total numbers in each session\")\n",
    "pd.DataFrame(x_sol.sum(axis=0),index=topics,columns=['S1','S2','S3'], dtype=int)"
   ]
  },
  {
   "cell_type": "markdown",
   "metadata": {},
   "source": [
    "## Save resulting conference schedules"
   ]
  },
  {
   "cell_type": "code",
   "execution_count": 18,
   "metadata": {},
   "outputs": [
    {
     "data": {
      "text/html": [
       "<div>\n",
       "<style scoped>\n",
       "    .dataframe tbody tr th:only-of-type {\n",
       "        vertical-align: middle;\n",
       "    }\n",
       "\n",
       "    .dataframe tbody tr th {\n",
       "        vertical-align: top;\n",
       "    }\n",
       "\n",
       "    .dataframe thead th {\n",
       "        text-align: right;\n",
       "    }\n",
       "</style>\n",
       "<table border=\"1\" class=\"dataframe\">\n",
       "  <thead>\n",
       "    <tr style=\"text-align: right;\">\n",
       "      <th></th>\n",
       "      <th>Session 1</th>\n",
       "      <th>Session 2</th>\n",
       "      <th>Session 3</th>\n",
       "    </tr>\n",
       "  </thead>\n",
       "  <tbody>\n",
       "    <tr>\n",
       "      <td>410</td>\n",
       "      <td>Cloud Enablement 201</td>\n",
       "      <td>Intro to AI and ML</td>\n",
       "      <td>Robotic Process Automation (RPA)</td>\n",
       "    </tr>\n",
       "    <tr>\n",
       "      <td>50</td>\n",
       "      <td>Modern Culture of Data</td>\n",
       "      <td>[Design Thinking] + [Lean] + [Agile]</td>\n",
       "      <td>Design Thinking for Experience &amp; Service Design</td>\n",
       "    </tr>\n",
       "    <tr>\n",
       "      <td>146</td>\n",
       "      <td>Modern Culture of Data</td>\n",
       "      <td>Cloud Enablement 201</td>\n",
       "      <td>Design Thinking for Experience &amp; Service Design</td>\n",
       "    </tr>\n",
       "    <tr>\n",
       "      <td>315</td>\n",
       "      <td>[Design Thinking] + [Lean] + [Agile]</td>\n",
       "      <td>Internet of Things</td>\n",
       "      <td>Design Thinking for Experience &amp; Service Design</td>\n",
       "    </tr>\n",
       "    <tr>\n",
       "      <td>576</td>\n",
       "      <td>Design Thinking for Experience &amp; Service Design</td>\n",
       "      <td>Modern Culture of Data</td>\n",
       "      <td>[Design Thinking] + [Lean] + [Agile]</td>\n",
       "    </tr>\n",
       "  </tbody>\n",
       "</table>\n",
       "</div>"
      ],
      "text/plain": [
       "                                           Session 1  \\\n",
       "410                            Cloud Enablement 201    \n",
       "50                           Modern Culture of Data    \n",
       "146                          Modern Culture of Data    \n",
       "315             [Design Thinking] + [Lean] + [Agile]   \n",
       "576  Design Thinking for Experience & Service Design   \n",
       "\n",
       "                                Session 2  \\\n",
       "410                    Intro to AI and ML   \n",
       "50   [Design Thinking] + [Lean] + [Agile]   \n",
       "146                 Cloud Enablement 201    \n",
       "315                    Internet of Things   \n",
       "576               Modern Culture of Data    \n",
       "\n",
       "                                           Session 3  \n",
       "410                 Robotic Process Automation (RPA)  \n",
       "50   Design Thinking for Experience & Service Design  \n",
       "146  Design Thinking for Experience & Service Design  \n",
       "315  Design Thinking for Experience & Service Design  \n",
       "576             [Design Thinking] + [Lean] + [Agile]  "
      ]
     },
     "execution_count": 18,
     "metadata": {},
     "output_type": "execute_result"
    }
   ],
   "source": [
    "schedule = np.argmax(x_sol,axis=1)\n",
    "schedule_text = topics[schedule]\n",
    "sched_df = pd.DataFrame(schedule_text, columns=[f'Session {i}' for i in range(1,4)])\n",
    "sched_df.sample(5, random_state=1990)"
   ]
  },
  {
   "cell_type": "code",
   "execution_count": 19,
   "metadata": {},
   "outputs": [],
   "source": [
    "sched_df.to_csv('data/conference_schedule.csv',index=True)"
   ]
  }
 ],
 "metadata": {
  "kernelspec": {
   "display_name": "Python [conda env:ml]",
   "language": "python",
   "name": "conda-env-ml-py"
  },
  "language_info": {
   "codemirror_mode": {
    "name": "ipython",
    "version": 3
   },
   "file_extension": ".py",
   "mimetype": "text/x-python",
   "name": "python",
   "nbconvert_exporter": "python",
   "pygments_lexer": "ipython3",
   "version": "3.10.9"
  }
 },
 "nbformat": 4,
 "nbformat_minor": 4
}
